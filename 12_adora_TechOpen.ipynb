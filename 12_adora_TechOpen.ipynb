{
 "cells": [
  {
   "cell_type": "code",
   "execution_count": 1,
   "metadata": {},
   "outputs": [
    {
     "name": "stderr",
     "output_type": "stream",
     "text": [
      "d:\\Visual Studio 2019\\Python\\.rdkit\\Lib\\site-packages\\tpot\\builtins\\__init__.py:36: UserWarning: Warning: optional dependency `torch` is not available. - skipping import of NN models.\n",
      "  warnings.warn(\"Warning: optional dependency `torch` is not available. - skipping import of NN models.\")\n"
     ]
    }
   ],
   "source": [
    "import numpy as np\n",
    "import pandas as pd\n",
    "import matplotlib.pyplot as plt\n",
    "\n",
    "import datamol as dm\n",
    "\n",
    "from rdkit import Chem\n",
    "from rdkit.Chem import Draw, PandasTools, MACCSkeys, rdFingerprintGenerator\n",
    "\n",
    "from sklearn.ensemble import RandomForestRegressor\n",
    "from sklearn.svm import SVR\n",
    "from sklearn.preprocessing import StandardScaler\n",
    "from sklearn.pipeline import Pipeline\n",
    "from sklearn.model_selection import train_test_split\n",
    "from sklearn.model_selection import cross_val_predict, cross_val_score\n",
    "from tpot import TPOTRegressor\n",
    "\n",
    "from pathlib import Path\n",
    "import pickle"
   ]
  },
  {
   "cell_type": "code",
   "execution_count": 2,
   "metadata": {},
   "outputs": [],
   "source": [
    "pd.options.display.max_columns = 50"
   ]
  },
  {
   "cell_type": "code",
   "execution_count": 3,
   "metadata": {},
   "outputs": [
    {
     "data": {
      "text/html": [
       "<div>\n",
       "<style scoped>\n",
       "    .dataframe tbody tr th:only-of-type {\n",
       "        vertical-align: middle;\n",
       "    }\n",
       "\n",
       "    .dataframe tbody tr th {\n",
       "        vertical-align: top;\n",
       "    }\n",
       "\n",
       "    .dataframe thead th {\n",
       "        text-align: right;\n",
       "    }\n",
       "</style>\n",
       "<table border=\"1\" class=\"dataframe\">\n",
       "  <thead>\n",
       "    <tr style=\"text-align: right;\">\n",
       "      <th></th>\n",
       "      <th>molecule_chembl_id</th>\n",
       "      <th>Ki</th>\n",
       "      <th>units</th>\n",
       "      <th>pKi</th>\n",
       "      <th>smiles</th>\n",
       "      <th>molecular_weight</th>\n",
       "      <th>n_hba</th>\n",
       "      <th>n_hbd</th>\n",
       "      <th>logp</th>\n",
       "      <th>passed</th>\n",
       "    </tr>\n",
       "  </thead>\n",
       "  <tbody>\n",
       "    <tr>\n",
       "      <th>0</th>\n",
       "      <td>CHEMBL132806</td>\n",
       "      <td>57.0</td>\n",
       "      <td>nM</td>\n",
       "      <td>7.24</td>\n",
       "      <td>CC(C)CCn1cc2c(nc(NC(=O)Cc3ccccc3)n3nc(-c4ccco4...</td>\n",
       "      <td>429.191323</td>\n",
       "      <td>9</td>\n",
       "      <td>1</td>\n",
       "      <td>3.9613</td>\n",
       "      <td>True</td>\n",
       "    </tr>\n",
       "    <tr>\n",
       "      <th>1</th>\n",
       "      <td>CHEMBL336217</td>\n",
       "      <td>42.0</td>\n",
       "      <td>nM</td>\n",
       "      <td>7.38</td>\n",
       "      <td>CC(C)CCn1cc2c(nc(NC(=O)Cc3cccc4ccccc34)n3nc(-c...</td>\n",
       "      <td>479.206973</td>\n",
       "      <td>9</td>\n",
       "      <td>1</td>\n",
       "      <td>5.1145</td>\n",
       "      <td>True</td>\n",
       "    </tr>\n",
       "    <tr>\n",
       "      <th>2</th>\n",
       "      <td>CHEMBL134566</td>\n",
       "      <td>60.0</td>\n",
       "      <td>nM</td>\n",
       "      <td>7.22</td>\n",
       "      <td>O=C(Cc1ccccc1)Nc1nc2nn(CCCc3ccccc3)cc2c2nc(-c3...</td>\n",
       "      <td>477.191323</td>\n",
       "      <td>9</td>\n",
       "      <td>1</td>\n",
       "      <td>4.5480</td>\n",
       "      <td>True</td>\n",
       "    </tr>\n",
       "    <tr>\n",
       "      <th>3</th>\n",
       "      <td>CHEMBL435022</td>\n",
       "      <td>38.0</td>\n",
       "      <td>nM</td>\n",
       "      <td>7.42</td>\n",
       "      <td>CC(C)CCn1cc2c(nc(NC(=O)COc3ccccc3)n3nc(-c4ccco...</td>\n",
       "      <td>445.186238</td>\n",
       "      <td>10</td>\n",
       "      <td>1</td>\n",
       "      <td>3.7976</td>\n",
       "      <td>True</td>\n",
       "    </tr>\n",
       "    <tr>\n",
       "      <th>4</th>\n",
       "      <td>CHEMBL341376</td>\n",
       "      <td>423.0</td>\n",
       "      <td>nM</td>\n",
       "      <td>6.37</td>\n",
       "      <td>Cn1cc2c(nc(NC(=O)Cc3ccccc3)n3nc(-c4ccco4)nc23)n1</td>\n",
       "      <td>373.128723</td>\n",
       "      <td>9</td>\n",
       "      <td>1</td>\n",
       "      <td>2.4522</td>\n",
       "      <td>True</td>\n",
       "    </tr>\n",
       "  </tbody>\n",
       "</table>\n",
       "</div>"
      ],
      "text/plain": [
       "  molecule_chembl_id     Ki units   pKi  \\\n",
       "0       CHEMBL132806   57.0    nM  7.24   \n",
       "1       CHEMBL336217   42.0    nM  7.38   \n",
       "2       CHEMBL134566   60.0    nM  7.22   \n",
       "3       CHEMBL435022   38.0    nM  7.42   \n",
       "4       CHEMBL341376  423.0    nM  6.37   \n",
       "\n",
       "                                              smiles  molecular_weight  n_hba  \\\n",
       "0  CC(C)CCn1cc2c(nc(NC(=O)Cc3ccccc3)n3nc(-c4ccco4...        429.191323      9   \n",
       "1  CC(C)CCn1cc2c(nc(NC(=O)Cc3cccc4ccccc34)n3nc(-c...        479.206973      9   \n",
       "2  O=C(Cc1ccccc1)Nc1nc2nn(CCCc3ccccc3)cc2c2nc(-c3...        477.191323      9   \n",
       "3  CC(C)CCn1cc2c(nc(NC(=O)COc3ccccc3)n3nc(-c4ccco...        445.186238     10   \n",
       "4   Cn1cc2c(nc(NC(=O)Cc3ccccc3)n3nc(-c4ccco4)nc23)n1        373.128723      9   \n",
       "\n",
       "   n_hbd    logp  passed  \n",
       "0      1  3.9613    True  \n",
       "1      1  5.1145    True  \n",
       "2      1  4.5480    True  \n",
       "3      1  3.7976    True  \n",
       "4      1  2.4522    True  "
      ]
     },
     "execution_count": 3,
     "metadata": {},
     "output_type": "execute_result"
    }
   ],
   "source": [
    "data = pd.read_csv('data_clean.csv', index_col=0)\n",
    "data.head()"
   ]
  },
  {
   "cell_type": "code",
   "execution_count": 4,
   "metadata": {},
   "outputs": [
    {
     "name": "stdout",
     "output_type": "stream",
     "text": [
      "<class 'pandas.core.frame.DataFrame'>\n",
      "Index: 2943 entries, 0 to 2942\n",
      "Data columns (total 10 columns):\n",
      " #   Column              Non-Null Count  Dtype  \n",
      "---  ------              --------------  -----  \n",
      " 0   molecule_chembl_id  2943 non-null   object \n",
      " 1   Ki                  2943 non-null   float64\n",
      " 2   units               2943 non-null   object \n",
      " 3   pKi                 2943 non-null   float64\n",
      " 4   smiles              2943 non-null   object \n",
      " 5   molecular_weight    2943 non-null   float64\n",
      " 6   n_hba               2943 non-null   int64  \n",
      " 7   n_hbd               2943 non-null   int64  \n",
      " 8   logp                2943 non-null   float64\n",
      " 9   passed              2943 non-null   bool   \n",
      "dtypes: bool(1), float64(4), int64(2), object(3)\n",
      "memory usage: 232.8+ KB\n"
     ]
    }
   ],
   "source": [
    "data.info()"
   ]
  },
  {
   "cell_type": "code",
   "execution_count": 5,
   "metadata": {},
   "outputs": [
    {
     "data": {
      "text/html": [
       "<div>\n",
       "<style scoped>\n",
       "    .dataframe tbody tr th:only-of-type {\n",
       "        vertical-align: middle;\n",
       "    }\n",
       "\n",
       "    .dataframe tbody tr th {\n",
       "        vertical-align: top;\n",
       "    }\n",
       "\n",
       "    .dataframe thead th {\n",
       "        text-align: right;\n",
       "    }\n",
       "</style>\n",
       "<table border=\"1\" class=\"dataframe\">\n",
       "  <thead>\n",
       "    <tr style=\"text-align: right;\">\n",
       "      <th></th>\n",
       "      <th>molecule_chembl_id</th>\n",
       "      <th>Ki</th>\n",
       "      <th>units</th>\n",
       "      <th>pKi</th>\n",
       "      <th>smiles</th>\n",
       "    </tr>\n",
       "  </thead>\n",
       "  <tbody>\n",
       "    <tr>\n",
       "      <th>0</th>\n",
       "      <td>CHEMBL132806</td>\n",
       "      <td>57.0</td>\n",
       "      <td>nM</td>\n",
       "      <td>7.24</td>\n",
       "      <td>CC(C)CCn1cc2c(nc(NC(=O)Cc3ccccc3)n3nc(-c4ccco4...</td>\n",
       "    </tr>\n",
       "    <tr>\n",
       "      <th>1</th>\n",
       "      <td>CHEMBL336217</td>\n",
       "      <td>42.0</td>\n",
       "      <td>nM</td>\n",
       "      <td>7.38</td>\n",
       "      <td>CC(C)CCn1cc2c(nc(NC(=O)Cc3cccc4ccccc34)n3nc(-c...</td>\n",
       "    </tr>\n",
       "    <tr>\n",
       "      <th>2</th>\n",
       "      <td>CHEMBL134566</td>\n",
       "      <td>60.0</td>\n",
       "      <td>nM</td>\n",
       "      <td>7.22</td>\n",
       "      <td>O=C(Cc1ccccc1)Nc1nc2nn(CCCc3ccccc3)cc2c2nc(-c3...</td>\n",
       "    </tr>\n",
       "    <tr>\n",
       "      <th>3</th>\n",
       "      <td>CHEMBL435022</td>\n",
       "      <td>38.0</td>\n",
       "      <td>nM</td>\n",
       "      <td>7.42</td>\n",
       "      <td>CC(C)CCn1cc2c(nc(NC(=O)COc3ccccc3)n3nc(-c4ccco...</td>\n",
       "    </tr>\n",
       "    <tr>\n",
       "      <th>4</th>\n",
       "      <td>CHEMBL341376</td>\n",
       "      <td>423.0</td>\n",
       "      <td>nM</td>\n",
       "      <td>6.37</td>\n",
       "      <td>Cn1cc2c(nc(NC(=O)Cc3ccccc3)n3nc(-c4ccco4)nc23)n1</td>\n",
       "    </tr>\n",
       "  </tbody>\n",
       "</table>\n",
       "</div>"
      ],
      "text/plain": [
       "  molecule_chembl_id     Ki units   pKi  \\\n",
       "0       CHEMBL132806   57.0    nM  7.24   \n",
       "1       CHEMBL336217   42.0    nM  7.38   \n",
       "2       CHEMBL134566   60.0    nM  7.22   \n",
       "3       CHEMBL435022   38.0    nM  7.42   \n",
       "4       CHEMBL341376  423.0    nM  6.37   \n",
       "\n",
       "                                              smiles  \n",
       "0  CC(C)CCn1cc2c(nc(NC(=O)Cc3ccccc3)n3nc(-c4ccco4...  \n",
       "1  CC(C)CCn1cc2c(nc(NC(=O)Cc3cccc4ccccc34)n3nc(-c...  \n",
       "2  O=C(Cc1ccccc1)Nc1nc2nn(CCCc3ccccc3)cc2c2nc(-c3...  \n",
       "3  CC(C)CCn1cc2c(nc(NC(=O)COc3ccccc3)n3nc(-c4ccco...  \n",
       "4   Cn1cc2c(nc(NC(=O)Cc3ccccc3)n3nc(-c4ccco4)nc23)n1  "
      ]
     },
     "execution_count": 5,
     "metadata": {},
     "output_type": "execute_result"
    }
   ],
   "source": [
    "data = data[list(data.columns)[:5]]\n",
    "data.head()"
   ]
  },
  {
   "cell_type": "code",
   "execution_count": 6,
   "metadata": {},
   "outputs": [],
   "source": [
    "PandasTools.AddMoleculeColumnToFrame(data, smilesCol='smiles', molCol='mols')"
   ]
  },
  {
   "cell_type": "code",
   "execution_count": 7,
   "metadata": {},
   "outputs": [],
   "source": [
    "data['maccs'] = data['mols'].apply(MACCSkeys.GenMACCSKeys)"
   ]
  },
  {
   "cell_type": "code",
   "execution_count": 8,
   "metadata": {},
   "outputs": [
    {
     "data": {
      "text/html": [
       "<div>\n",
       "<style scoped>\n",
       "    .dataframe tbody tr th:only-of-type {\n",
       "        vertical-align: middle;\n",
       "    }\n",
       "\n",
       "    .dataframe tbody tr th {\n",
       "        vertical-align: top;\n",
       "    }\n",
       "\n",
       "    .dataframe thead th {\n",
       "        text-align: right;\n",
       "    }\n",
       "</style>\n",
       "<table border=\"1\" class=\"dataframe\">\n",
       "  <thead>\n",
       "    <tr style=\"text-align: right;\">\n",
       "      <th></th>\n",
       "      <th>molecule_chembl_id</th>\n",
       "      <th>Ki</th>\n",
       "      <th>units</th>\n",
       "      <th>pKi</th>\n",
       "      <th>smiles</th>\n",
       "      <th>mols</th>\n",
       "      <th>maccs</th>\n",
       "    </tr>\n",
       "  </thead>\n",
       "  <tbody>\n",
       "    <tr>\n",
       "      <th>0</th>\n",
       "      <td>CHEMBL132806</td>\n",
       "      <td>57.0</td>\n",
       "      <td>nM</td>\n",
       "      <td>7.24</td>\n",
       "      <td>CC(C)CCn1cc2c(nc(NC(=O)Cc3ccccc3)n3nc(-c4ccco4...</td>\n",
       "      <td>&lt;rdkit.Chem.rdchem.Mol object at 0x0000018B5EA...</td>\n",
       "      <td>[0, 0, 0, 0, 0, 0, 0, 0, 0, 0, 0, 0, 0, 0, 0, ...</td>\n",
       "    </tr>\n",
       "    <tr>\n",
       "      <th>1</th>\n",
       "      <td>CHEMBL336217</td>\n",
       "      <td>42.0</td>\n",
       "      <td>nM</td>\n",
       "      <td>7.38</td>\n",
       "      <td>CC(C)CCn1cc2c(nc(NC(=O)Cc3cccc4ccccc34)n3nc(-c...</td>\n",
       "      <td>&lt;rdkit.Chem.rdchem.Mol object at 0x0000018B5EA...</td>\n",
       "      <td>[0, 0, 0, 0, 0, 0, 0, 0, 0, 0, 0, 0, 0, 0, 0, ...</td>\n",
       "    </tr>\n",
       "    <tr>\n",
       "      <th>2</th>\n",
       "      <td>CHEMBL134566</td>\n",
       "      <td>60.0</td>\n",
       "      <td>nM</td>\n",
       "      <td>7.22</td>\n",
       "      <td>O=C(Cc1ccccc1)Nc1nc2nn(CCCc3ccccc3)cc2c2nc(-c3...</td>\n",
       "      <td>&lt;rdkit.Chem.rdchem.Mol object at 0x0000018B5EA...</td>\n",
       "      <td>[0, 0, 0, 0, 0, 0, 0, 0, 0, 0, 0, 0, 0, 0, 0, ...</td>\n",
       "    </tr>\n",
       "    <tr>\n",
       "      <th>3</th>\n",
       "      <td>CHEMBL435022</td>\n",
       "      <td>38.0</td>\n",
       "      <td>nM</td>\n",
       "      <td>7.42</td>\n",
       "      <td>CC(C)CCn1cc2c(nc(NC(=O)COc3ccccc3)n3nc(-c4ccco...</td>\n",
       "      <td>&lt;rdkit.Chem.rdchem.Mol object at 0x0000018B5EA...</td>\n",
       "      <td>[0, 0, 0, 0, 0, 0, 0, 0, 0, 0, 0, 0, 0, 0, 0, ...</td>\n",
       "    </tr>\n",
       "    <tr>\n",
       "      <th>4</th>\n",
       "      <td>CHEMBL341376</td>\n",
       "      <td>423.0</td>\n",
       "      <td>nM</td>\n",
       "      <td>6.37</td>\n",
       "      <td>Cn1cc2c(nc(NC(=O)Cc3ccccc3)n3nc(-c4ccco4)nc23)n1</td>\n",
       "      <td>&lt;rdkit.Chem.rdchem.Mol object at 0x0000018B5EA...</td>\n",
       "      <td>[0, 0, 0, 0, 0, 0, 0, 0, 0, 0, 0, 0, 0, 0, 0, ...</td>\n",
       "    </tr>\n",
       "  </tbody>\n",
       "</table>\n",
       "</div>"
      ],
      "text/plain": [
       "  molecule_chembl_id     Ki units   pKi  \\\n",
       "0       CHEMBL132806   57.0    nM  7.24   \n",
       "1       CHEMBL336217   42.0    nM  7.38   \n",
       "2       CHEMBL134566   60.0    nM  7.22   \n",
       "3       CHEMBL435022   38.0    nM  7.42   \n",
       "4       CHEMBL341376  423.0    nM  6.37   \n",
       "\n",
       "                                              smiles  \\\n",
       "0  CC(C)CCn1cc2c(nc(NC(=O)Cc3ccccc3)n3nc(-c4ccco4...   \n",
       "1  CC(C)CCn1cc2c(nc(NC(=O)Cc3cccc4ccccc34)n3nc(-c...   \n",
       "2  O=C(Cc1ccccc1)Nc1nc2nn(CCCc3ccccc3)cc2c2nc(-c3...   \n",
       "3  CC(C)CCn1cc2c(nc(NC(=O)COc3ccccc3)n3nc(-c4ccco...   \n",
       "4   Cn1cc2c(nc(NC(=O)Cc3ccccc3)n3nc(-c4ccco4)nc23)n1   \n",
       "\n",
       "                                                mols  \\\n",
       "0  <rdkit.Chem.rdchem.Mol object at 0x0000018B5EA...   \n",
       "1  <rdkit.Chem.rdchem.Mol object at 0x0000018B5EA...   \n",
       "2  <rdkit.Chem.rdchem.Mol object at 0x0000018B5EA...   \n",
       "3  <rdkit.Chem.rdchem.Mol object at 0x0000018B5EA...   \n",
       "4  <rdkit.Chem.rdchem.Mol object at 0x0000018B5EA...   \n",
       "\n",
       "                                               maccs  \n",
       "0  [0, 0, 0, 0, 0, 0, 0, 0, 0, 0, 0, 0, 0, 0, 0, ...  \n",
       "1  [0, 0, 0, 0, 0, 0, 0, 0, 0, 0, 0, 0, 0, 0, 0, ...  \n",
       "2  [0, 0, 0, 0, 0, 0, 0, 0, 0, 0, 0, 0, 0, 0, 0, ...  \n",
       "3  [0, 0, 0, 0, 0, 0, 0, 0, 0, 0, 0, 0, 0, 0, 0, ...  \n",
       "4  [0, 0, 0, 0, 0, 0, 0, 0, 0, 0, 0, 0, 0, 0, 0, ...  "
      ]
     },
     "execution_count": 8,
     "metadata": {},
     "output_type": "execute_result"
    }
   ],
   "source": [
    "data.head()"
   ]
  },
  {
   "cell_type": "code",
   "execution_count": 9,
   "metadata": {},
   "outputs": [
    {
     "data": {
      "text/plain": [
       "[('MaxAbsEStateIndex',\n",
       "  <function rdkit.Chem.EState.EState.MaxAbsEStateIndex(mol, force=1)>),\n",
       " ('MaxEStateIndex',\n",
       "  <function rdkit.Chem.EState.EState.MaxEStateIndex(mol, force=1)>),\n",
       " ('MinAbsEStateIndex',\n",
       "  <function rdkit.Chem.EState.EState.MinAbsEStateIndex(mol, force=1)>),\n",
       " ('MinEStateIndex',\n",
       "  <function rdkit.Chem.EState.EState.MinEStateIndex(mol, force=1)>),\n",
       " ('qed',\n",
       "  <function rdkit.Chem.QED.qed(mol, w=QEDproperties(MW=0.66, ALOGP=0.46, HBA=0.05, HBD=0.61, PSA=0.06, ROTB=0.65, AROM=0.48, ALERTS=0.95), qedProperties=None)>),\n",
       " ('SPS', <function rdkit.Chem.SpacialScore.SPS(mol, normalize=True)>),\n",
       " ('MolWt', <function rdkit.Chem.Descriptors.<lambda>(*x, **y)>),\n",
       " ('HeavyAtomMolWt', <function rdkit.Chem.Descriptors.HeavyAtomMolWt(x)>),\n",
       " ('ExactMolWt', <function rdkit.Chem.Descriptors.<lambda>(*x, **y)>),\n",
       " ('NumValenceElectrons',\n",
       "  <function rdkit.Chem.Descriptors.NumValenceElectrons(mol)>),\n",
       " ('NumRadicalElectrons',\n",
       "  <function rdkit.Chem.Descriptors.NumRadicalElectrons(mol)>),\n",
       " ('MaxPartialCharge',\n",
       "  <function rdkit.Chem.Descriptors.MaxPartialCharge(mol, force=False)>),\n",
       " ('MinPartialCharge',\n",
       "  <function rdkit.Chem.Descriptors.MinPartialCharge(mol, force=False)>),\n",
       " ('MaxAbsPartialCharge',\n",
       "  <function rdkit.Chem.Descriptors.MaxAbsPartialCharge(mol, force=False)>),\n",
       " ('MinAbsPartialCharge',\n",
       "  <function rdkit.Chem.Descriptors.MinAbsPartialCharge(mol, force=False)>),\n",
       " ('FpDensityMorgan1', <function rdkit.Chem.Descriptors.FpDensityMorgan1(x)>),\n",
       " ('FpDensityMorgan2', <function rdkit.Chem.Descriptors.FpDensityMorgan2(x)>),\n",
       " ('FpDensityMorgan3', <function rdkit.Chem.Descriptors.FpDensityMorgan3(x)>),\n",
       " ('BCUT2D_MWHI',\n",
       "  <function rdkit.Chem.ChemUtils.DescriptorUtilities.BCUT2D_MWHI(mol, index=0)>),\n",
       " ('BCUT2D_MWLOW',\n",
       "  <function rdkit.Chem.ChemUtils.DescriptorUtilities.BCUT2D_MWLOW(mol, index=1)>),\n",
       " ('BCUT2D_CHGHI',\n",
       "  <function rdkit.Chem.ChemUtils.DescriptorUtilities.BCUT2D_CHGHI(mol, index=2)>),\n",
       " ('BCUT2D_CHGLO',\n",
       "  <function rdkit.Chem.ChemUtils.DescriptorUtilities.BCUT2D_CHGLO(mol, index=3)>),\n",
       " ('BCUT2D_LOGPHI',\n",
       "  <function rdkit.Chem.ChemUtils.DescriptorUtilities.BCUT2D_LOGPHI(mol, index=4)>),\n",
       " ('BCUT2D_LOGPLOW',\n",
       "  <function rdkit.Chem.ChemUtils.DescriptorUtilities.BCUT2D_LOGPLOW(mol, index=5)>),\n",
       " ('BCUT2D_MRHI',\n",
       "  <function rdkit.Chem.ChemUtils.DescriptorUtilities.BCUT2D_MRHI(mol, index=6)>),\n",
       " ('BCUT2D_MRLOW',\n",
       "  <function rdkit.Chem.ChemUtils.DescriptorUtilities.BCUT2D_MRLOW(mol, index=7)>),\n",
       " ('AvgIpc',\n",
       "  <function rdkit.Chem.GraphDescriptors.AvgIpc(mol, dMat=None, forceDMat=False)>),\n",
       " ('BalabanJ',\n",
       "  <function rdkit.Chem.GraphDescriptors.BalabanJ(mol, dMat=None, forceDMat=0)>),\n",
       " ('BertzCT',\n",
       "  <function rdkit.Chem.GraphDescriptors.BertzCT(mol, cutoff=100, dMat=None, forceDMat=1)>),\n",
       " ('Chi0', <function rdkit.Chem.GraphDescriptors.Chi0(mol)>),\n",
       " ('Chi0n', <function rdkit.Chem.GraphDescriptors.<lambda>(x)>),\n",
       " ('Chi0v', <function rdkit.Chem.GraphDescriptors.<lambda>(x)>),\n",
       " ('Chi1', <function rdkit.Chem.GraphDescriptors.Chi1(mol)>),\n",
       " ('Chi1n', <function rdkit.Chem.GraphDescriptors.<lambda>(x)>),\n",
       " ('Chi1v', <function rdkit.Chem.GraphDescriptors.<lambda>(x)>),\n",
       " ('Chi2n', <function rdkit.Chem.GraphDescriptors.<lambda>(x)>),\n",
       " ('Chi2v', <function rdkit.Chem.GraphDescriptors.<lambda>(x)>),\n",
       " ('Chi3n', <function rdkit.Chem.GraphDescriptors.<lambda>(x)>),\n",
       " ('Chi3v', <function rdkit.Chem.GraphDescriptors.<lambda>(x)>),\n",
       " ('Chi4n', <function rdkit.Chem.GraphDescriptors.<lambda>(x)>),\n",
       " ('Chi4v', <function rdkit.Chem.GraphDescriptors.<lambda>(x)>),\n",
       " ('HallKierAlpha', <function rdkit.Chem.GraphDescriptors.<lambda>(x)>),\n",
       " ('Ipc',\n",
       "  <function rdkit.Chem.GraphDescriptors.Ipc(mol, avg=False, dMat=None, forceDMat=False)>),\n",
       " ('Kappa1', <function rdkit.Chem.GraphDescriptors.<lambda>(x)>),\n",
       " ('Kappa2', <function rdkit.Chem.GraphDescriptors.<lambda>(x)>),\n",
       " ('Kappa3', <function rdkit.Chem.GraphDescriptors.<lambda>(x)>),\n",
       " ('LabuteASA', <function rdkit.Chem.MolSurf.<lambda>(*x, **y)>),\n",
       " ('PEOE_VSA1',\n",
       "  <function rdkit.Chem.MolSurf._InstallDescriptors.<locals>.<lambda>(x, y=0)>),\n",
       " ('PEOE_VSA10',\n",
       "  <function rdkit.Chem.MolSurf._InstallDescriptors.<locals>.<lambda>(x, y=9)>),\n",
       " ('PEOE_VSA11',\n",
       "  <function rdkit.Chem.MolSurf._InstallDescriptors.<locals>.<lambda>(x, y=10)>),\n",
       " ('PEOE_VSA12',\n",
       "  <function rdkit.Chem.MolSurf._InstallDescriptors.<locals>.<lambda>(x, y=11)>),\n",
       " ('PEOE_VSA13',\n",
       "  <function rdkit.Chem.MolSurf._InstallDescriptors.<locals>.<lambda>(x, y=12)>),\n",
       " ('PEOE_VSA14',\n",
       "  <function rdkit.Chem.MolSurf._InstallDescriptors.<locals>.<lambda>(x, y=13)>),\n",
       " ('PEOE_VSA2',\n",
       "  <function rdkit.Chem.MolSurf._InstallDescriptors.<locals>.<lambda>(x, y=1)>),\n",
       " ('PEOE_VSA3',\n",
       "  <function rdkit.Chem.MolSurf._InstallDescriptors.<locals>.<lambda>(x, y=2)>),\n",
       " ('PEOE_VSA4',\n",
       "  <function rdkit.Chem.MolSurf._InstallDescriptors.<locals>.<lambda>(x, y=3)>),\n",
       " ('PEOE_VSA5',\n",
       "  <function rdkit.Chem.MolSurf._InstallDescriptors.<locals>.<lambda>(x, y=4)>),\n",
       " ('PEOE_VSA6',\n",
       "  <function rdkit.Chem.MolSurf._InstallDescriptors.<locals>.<lambda>(x, y=5)>),\n",
       " ('PEOE_VSA7',\n",
       "  <function rdkit.Chem.MolSurf._InstallDescriptors.<locals>.<lambda>(x, y=6)>),\n",
       " ('PEOE_VSA8',\n",
       "  <function rdkit.Chem.MolSurf._InstallDescriptors.<locals>.<lambda>(x, y=7)>),\n",
       " ('PEOE_VSA9',\n",
       "  <function rdkit.Chem.MolSurf._InstallDescriptors.<locals>.<lambda>(x, y=8)>),\n",
       " ('SMR_VSA1',\n",
       "  <function rdkit.Chem.MolSurf._InstallDescriptors.<locals>.<lambda>(x, y=0)>),\n",
       " ('SMR_VSA10',\n",
       "  <function rdkit.Chem.MolSurf._InstallDescriptors.<locals>.<lambda>(x, y=9)>),\n",
       " ('SMR_VSA2',\n",
       "  <function rdkit.Chem.MolSurf._InstallDescriptors.<locals>.<lambda>(x, y=1)>),\n",
       " ('SMR_VSA3',\n",
       "  <function rdkit.Chem.MolSurf._InstallDescriptors.<locals>.<lambda>(x, y=2)>),\n",
       " ('SMR_VSA4',\n",
       "  <function rdkit.Chem.MolSurf._InstallDescriptors.<locals>.<lambda>(x, y=3)>),\n",
       " ('SMR_VSA5',\n",
       "  <function rdkit.Chem.MolSurf._InstallDescriptors.<locals>.<lambda>(x, y=4)>),\n",
       " ('SMR_VSA6',\n",
       "  <function rdkit.Chem.MolSurf._InstallDescriptors.<locals>.<lambda>(x, y=5)>),\n",
       " ('SMR_VSA7',\n",
       "  <function rdkit.Chem.MolSurf._InstallDescriptors.<locals>.<lambda>(x, y=6)>),\n",
       " ('SMR_VSA8',\n",
       "  <function rdkit.Chem.MolSurf._InstallDescriptors.<locals>.<lambda>(x, y=7)>),\n",
       " ('SMR_VSA9',\n",
       "  <function rdkit.Chem.MolSurf._InstallDescriptors.<locals>.<lambda>(x, y=8)>),\n",
       " ('SlogP_VSA1',\n",
       "  <function rdkit.Chem.MolSurf._InstallDescriptors.<locals>.<lambda>(x, y=0)>),\n",
       " ('SlogP_VSA10',\n",
       "  <function rdkit.Chem.MolSurf._InstallDescriptors.<locals>.<lambda>(x, y=9)>),\n",
       " ('SlogP_VSA11',\n",
       "  <function rdkit.Chem.MolSurf._InstallDescriptors.<locals>.<lambda>(x, y=10)>),\n",
       " ('SlogP_VSA12',\n",
       "  <function rdkit.Chem.MolSurf._InstallDescriptors.<locals>.<lambda>(x, y=11)>),\n",
       " ('SlogP_VSA2',\n",
       "  <function rdkit.Chem.MolSurf._InstallDescriptors.<locals>.<lambda>(x, y=1)>),\n",
       " ('SlogP_VSA3',\n",
       "  <function rdkit.Chem.MolSurf._InstallDescriptors.<locals>.<lambda>(x, y=2)>),\n",
       " ('SlogP_VSA4',\n",
       "  <function rdkit.Chem.MolSurf._InstallDescriptors.<locals>.<lambda>(x, y=3)>),\n",
       " ('SlogP_VSA5',\n",
       "  <function rdkit.Chem.MolSurf._InstallDescriptors.<locals>.<lambda>(x, y=4)>),\n",
       " ('SlogP_VSA6',\n",
       "  <function rdkit.Chem.MolSurf._InstallDescriptors.<locals>.<lambda>(x, y=5)>),\n",
       " ('SlogP_VSA7',\n",
       "  <function rdkit.Chem.MolSurf._InstallDescriptors.<locals>.<lambda>(x, y=6)>),\n",
       " ('SlogP_VSA8',\n",
       "  <function rdkit.Chem.MolSurf._InstallDescriptors.<locals>.<lambda>(x, y=7)>),\n",
       " ('SlogP_VSA9',\n",
       "  <function rdkit.Chem.MolSurf._InstallDescriptors.<locals>.<lambda>(x, y=8)>),\n",
       " ('TPSA', <function rdkit.Chem.MolSurf.<lambda>(*x, **y)>),\n",
       " ('EState_VSA1', <function rdkit.Chem.EState.EState_VSA.EState_VSA1(mol)>),\n",
       " ('EState_VSA10', <function rdkit.Chem.EState.EState_VSA.EState_VSA10(mol)>),\n",
       " ('EState_VSA11', <function rdkit.Chem.EState.EState_VSA.EState_VSA11(mol)>),\n",
       " ('EState_VSA2', <function rdkit.Chem.EState.EState_VSA.EState_VSA2(mol)>),\n",
       " ('EState_VSA3', <function rdkit.Chem.EState.EState_VSA.EState_VSA3(mol)>),\n",
       " ('EState_VSA4', <function rdkit.Chem.EState.EState_VSA.EState_VSA4(mol)>),\n",
       " ('EState_VSA5', <function rdkit.Chem.EState.EState_VSA.EState_VSA5(mol)>),\n",
       " ('EState_VSA6', <function rdkit.Chem.EState.EState_VSA.EState_VSA6(mol)>),\n",
       " ('EState_VSA7', <function rdkit.Chem.EState.EState_VSA.EState_VSA7(mol)>),\n",
       " ('EState_VSA8', <function rdkit.Chem.EState.EState_VSA.EState_VSA8(mol)>),\n",
       " ('EState_VSA9', <function rdkit.Chem.EState.EState_VSA.EState_VSA9(mol)>),\n",
       " ('VSA_EState1',\n",
       "  <function rdkit.Chem.EState.EState_VSA._descriptor_VSA_EState.<locals>.VSA_EState_bin(mol)>),\n",
       " ('VSA_EState10',\n",
       "  <function rdkit.Chem.EState.EState_VSA._descriptor_VSA_EState.<locals>.VSA_EState_bin(mol)>),\n",
       " ('VSA_EState2',\n",
       "  <function rdkit.Chem.EState.EState_VSA._descriptor_VSA_EState.<locals>.VSA_EState_bin(mol)>),\n",
       " ('VSA_EState3',\n",
       "  <function rdkit.Chem.EState.EState_VSA._descriptor_VSA_EState.<locals>.VSA_EState_bin(mol)>),\n",
       " ('VSA_EState4',\n",
       "  <function rdkit.Chem.EState.EState_VSA._descriptor_VSA_EState.<locals>.VSA_EState_bin(mol)>),\n",
       " ('VSA_EState5',\n",
       "  <function rdkit.Chem.EState.EState_VSA._descriptor_VSA_EState.<locals>.VSA_EState_bin(mol)>),\n",
       " ('VSA_EState6',\n",
       "  <function rdkit.Chem.EState.EState_VSA._descriptor_VSA_EState.<locals>.VSA_EState_bin(mol)>),\n",
       " ('VSA_EState7',\n",
       "  <function rdkit.Chem.EState.EState_VSA._descriptor_VSA_EState.<locals>.VSA_EState_bin(mol)>),\n",
       " ('VSA_EState8',\n",
       "  <function rdkit.Chem.EState.EState_VSA._descriptor_VSA_EState.<locals>.VSA_EState_bin(mol)>),\n",
       " ('VSA_EState9',\n",
       "  <function rdkit.Chem.EState.EState_VSA._descriptor_VSA_EState.<locals>.VSA_EState_bin(mol)>),\n",
       " ('FractionCSP3',\n",
       "  <function rdkit.Chem.Lipinski.<lambda>(x, y=<Boost.Python.function object at 0x0000018B2AA580B0>)>),\n",
       " ('HeavyAtomCount', <function rdkit.Chem.Lipinski.HeavyAtomCount(mol)>),\n",
       " ('NHOHCount', <function rdkit.Chem.Lipinski.<lambda>(x)>),\n",
       " ('NOCount', <function rdkit.Chem.Lipinski.<lambda>(x)>),\n",
       " ('NumAliphaticCarbocycles',\n",
       "  <function rdkit.Chem.Lipinski.<lambda>(x, y=<Boost.Python.function object at 0x0000018B2AA583D0>)>),\n",
       " ('NumAliphaticHeterocycles',\n",
       "  <function rdkit.Chem.Lipinski.<lambda>(x, y=<Boost.Python.function object at 0x0000018B2AA581F0>)>),\n",
       " ('NumAliphaticRings',\n",
       "  <function rdkit.Chem.Lipinski.<lambda>(x, y=<Boost.Python.function object at 0x0000018B2AA584C0>)>),\n",
       " ('NumAromaticCarbocycles',\n",
       "  <function rdkit.Chem.Lipinski.<lambda>(x, y=<Boost.Python.function object at 0x0000018B2AA58010>)>),\n",
       " ('NumAromaticHeterocycles',\n",
       "  <function rdkit.Chem.Lipinski.<lambda>(x, y=<Boost.Python.function object at 0x0000018B2AA57930>)>),\n",
       " ('NumAromaticRings',\n",
       "  <function rdkit.Chem.Lipinski.<lambda>(x, y=<Boost.Python.function object at 0x0000018B2AA577A0>)>),\n",
       " ('NumHAcceptors', <function rdkit.Chem.Lipinski.<lambda>(x)>),\n",
       " ('NumHDonors', <function rdkit.Chem.Lipinski.<lambda>(x)>),\n",
       " ('NumHeteroatoms', <function rdkit.Chem.Lipinski.<lambda>(x)>),\n",
       " ('NumRotatableBonds', <function rdkit.Chem.Lipinski.<lambda>(x)>),\n",
       " ('NumSaturatedCarbocycles',\n",
       "  <function rdkit.Chem.Lipinski.<lambda>(x, y=<Boost.Python.function object at 0x0000018B2AA586A0>)>),\n",
       " ('NumSaturatedHeterocycles',\n",
       "  <function rdkit.Chem.Lipinski.<lambda>(x, y=<Boost.Python.function object at 0x0000018B2AA582E0>)>),\n",
       " ('NumSaturatedRings',\n",
       "  <function rdkit.Chem.Lipinski.<lambda>(x, y=<Boost.Python.function object at 0x0000018B2AA57840>)>),\n",
       " ('RingCount', <function rdkit.Chem.Lipinski.<lambda>(x)>),\n",
       " ('MolLogP', <function rdkit.Chem.Crippen.<lambda>(*x, **y)>),\n",
       " ('MolMR', <function rdkit.Chem.Crippen.<lambda>(*x, **y)>),\n",
       " ('fr_Al_COO',\n",
       "  <function rdkit.Chem.Fragments._LoadPatterns.<locals>.<lambda>(mol, countUnique=True, pattern=<rdkit.Chem.rdchem.Mol object at 0x0000018B5EB721F0>)>),\n",
       " ('fr_Al_OH',\n",
       "  <function rdkit.Chem.Fragments._LoadPatterns.<locals>.<lambda>(mol, countUnique=True, pattern=<rdkit.Chem.rdchem.Mol object at 0x0000018B5EB71FC0>)>),\n",
       " ('fr_Al_OH_noTert',\n",
       "  <function rdkit.Chem.Fragments._LoadPatterns.<locals>.<lambda>(mol, countUnique=True, pattern=<rdkit.Chem.rdchem.Mol object at 0x0000018B5EB84190>)>),\n",
       " ('fr_ArN',\n",
       "  <function rdkit.Chem.Fragments._LoadPatterns.<locals>.<lambda>(mol, countUnique=True, pattern=<rdkit.Chem.rdchem.Mol object at 0x0000018B5EB846D0>)>),\n",
       " ('fr_Ar_COO',\n",
       "  <function rdkit.Chem.Fragments._LoadPatterns.<locals>.<lambda>(mol, countUnique=True, pattern=<rdkit.Chem.rdchem.Mol object at 0x0000018B5EB72260>)>),\n",
       " ('fr_Ar_N',\n",
       "  <function rdkit.Chem.Fragments._LoadPatterns.<locals>.<lambda>(mol, countUnique=True, pattern=<rdkit.Chem.rdchem.Mol object at 0x0000018B5EB72730>)>),\n",
       " ('fr_Ar_NH',\n",
       "  <function rdkit.Chem.Fragments._LoadPatterns.<locals>.<lambda>(mol, countUnique=True, pattern=<rdkit.Chem.rdchem.Mol object at 0x0000018B5EB727A0>)>),\n",
       " ('fr_Ar_OH',\n",
       "  <function rdkit.Chem.Fragments._LoadPatterns.<locals>.<lambda>(mol, countUnique=True, pattern=<rdkit.Chem.rdchem.Mol object at 0x0000018B5EB72030>)>),\n",
       " ('fr_COO',\n",
       "  <function rdkit.Chem.Fragments._LoadPatterns.<locals>.<lambda>(mol, countUnique=True, pattern=<rdkit.Chem.rdchem.Mol object at 0x0000018B5EB722D0>)>),\n",
       " ('fr_COO2',\n",
       "  <function rdkit.Chem.Fragments._LoadPatterns.<locals>.<lambda>(mol, countUnique=True, pattern=<rdkit.Chem.rdchem.Mol object at 0x0000018B5EB72340>)>),\n",
       " ('fr_C_O',\n",
       "  <function rdkit.Chem.Fragments._LoadPatterns.<locals>.<lambda>(mol, countUnique=True, pattern=<rdkit.Chem.rdchem.Mol object at 0x0000018B5EB71F50>)>),\n",
       " ('fr_C_O_noCOO',\n",
       "  <function rdkit.Chem.Fragments._LoadPatterns.<locals>.<lambda>(mol, countUnique=True, pattern=<rdkit.Chem.rdchem.Mol object at 0x0000018B5EB71EE0>)>),\n",
       " ('fr_C_S',\n",
       "  <function rdkit.Chem.Fragments._LoadPatterns.<locals>.<lambda>(mol, countUnique=True, pattern=<rdkit.Chem.rdchem.Mol object at 0x0000018B5EB73290>)>),\n",
       " ('fr_HOCCN',\n",
       "  <function rdkit.Chem.Fragments._LoadPatterns.<locals>.<lambda>(mol, countUnique=True, pattern=<rdkit.Chem.rdchem.Mol object at 0x0000018B5EB847B0>)>),\n",
       " ('fr_Imine',\n",
       "  <function rdkit.Chem.Fragments._LoadPatterns.<locals>.<lambda>(mol, countUnique=True, pattern=<rdkit.Chem.rdchem.Mol object at 0x0000018B5EB72880>)>),\n",
       " ('fr_NH0',\n",
       "  <function rdkit.Chem.Fragments._LoadPatterns.<locals>.<lambda>(mol, countUnique=True, pattern=<rdkit.Chem.rdchem.Mol object at 0x0000018B5EB726C0>)>),\n",
       " ('fr_NH1',\n",
       "  <function rdkit.Chem.Fragments._LoadPatterns.<locals>.<lambda>(mol, countUnique=True, pattern=<rdkit.Chem.rdchem.Mol object at 0x0000018B5EB72650>)>),\n",
       " ('fr_NH2',\n",
       "  <function rdkit.Chem.Fragments._LoadPatterns.<locals>.<lambda>(mol, countUnique=True, pattern=<rdkit.Chem.rdchem.Mol object at 0x0000018B5EB725E0>)>),\n",
       " ('fr_N_O',\n",
       "  <function rdkit.Chem.Fragments._LoadPatterns.<locals>.<lambda>(mol, countUnique=True, pattern=<rdkit.Chem.rdchem.Mol object at 0x0000018B5EB72AB0>)>),\n",
       " ('fr_Ndealkylation1',\n",
       "  <function rdkit.Chem.Fragments._LoadPatterns.<locals>.<lambda>(mol, countUnique=True, pattern=<rdkit.Chem.rdchem.Mol object at 0x0000018B5EB843C0>)>),\n",
       " ('fr_Ndealkylation2',\n",
       "  <function rdkit.Chem.Fragments._LoadPatterns.<locals>.<lambda>(mol, countUnique=True, pattern=<rdkit.Chem.rdchem.Mol object at 0x0000018B5EB84430>)>),\n",
       " ('fr_Nhpyrrole',\n",
       "  <function rdkit.Chem.Fragments._LoadPatterns.<locals>.<lambda>(mol, countUnique=True, pattern=<rdkit.Chem.rdchem.Mol object at 0x0000018B5EB72EA0>)>),\n",
       " ('fr_SH',\n",
       "  <function rdkit.Chem.Fragments._LoadPatterns.<locals>.<lambda>(mol, countUnique=True, pattern=<rdkit.Chem.rdchem.Mol object at 0x0000018B5EB73220>)>),\n",
       " ('fr_aldehyde',\n",
       "  <function rdkit.Chem.Fragments._LoadPatterns.<locals>.<lambda>(mol, countUnique=True, pattern=<rdkit.Chem.rdchem.Mol object at 0x0000018B5EB72500>)>),\n",
       " ('fr_alkyl_carbamate',\n",
       "  <function rdkit.Chem.Fragments._LoadPatterns.<locals>.<lambda>(mol, countUnique=True, pattern=<rdkit.Chem.rdchem.Mol object at 0x0000018B5EB84580>)>),\n",
       " ('fr_alkyl_halide',\n",
       "  <function rdkit.Chem.Fragments._LoadPatterns.<locals>.<lambda>(mol, countUnique=True, pattern=<rdkit.Chem.rdchem.Mol object at 0x0000018B5EB73140>)>),\n",
       " ('fr_allylic_oxid',\n",
       "  <function rdkit.Chem.Fragments._LoadPatterns.<locals>.<lambda>(mol, countUnique=True, pattern=<rdkit.Chem.rdchem.Mol object at 0x0000018B5EB84350>)>),\n",
       " ('fr_amide',\n",
       "  <function rdkit.Chem.Fragments._LoadPatterns.<locals>.<lambda>(mol, countUnique=True, pattern=<rdkit.Chem.rdchem.Mol object at 0x0000018B5EB72C70>)>),\n",
       " ('fr_amidine',\n",
       "  <function rdkit.Chem.Fragments._LoadPatterns.<locals>.<lambda>(mol, countUnique=True, pattern=<rdkit.Chem.rdchem.Mol object at 0x0000018B5EB72DC0>)>),\n",
       " ('fr_aniline',\n",
       "  <function rdkit.Chem.Fragments._LoadPatterns.<locals>.<lambda>(mol, countUnique=True, pattern=<rdkit.Chem.rdchem.Mol object at 0x0000018B5EB72810>)>),\n",
       " ('fr_aryl_methyl',\n",
       "  <function rdkit.Chem.Fragments._LoadPatterns.<locals>.<lambda>(mol, countUnique=True, pattern=<rdkit.Chem.rdchem.Mol object at 0x0000018B5EB84270>)>),\n",
       " ('fr_azide',\n",
       "  <function rdkit.Chem.Fragments._LoadPatterns.<locals>.<lambda>(mol, countUnique=True, pattern=<rdkit.Chem.rdchem.Mol object at 0x0000018B5EB72CE0>)>),\n",
       " ('fr_azo',\n",
       "  <function rdkit.Chem.Fragments._LoadPatterns.<locals>.<lambda>(mol, countUnique=True, pattern=<rdkit.Chem.rdchem.Mol object at 0x0000018B5EB72C00>)>),\n",
       " ('fr_barbitur',\n",
       "  <function rdkit.Chem.Fragments._LoadPatterns.<locals>.<lambda>(mol, countUnique=True, pattern=<rdkit.Chem.rdchem.Mol object at 0x0000018B5EB73370>)>),\n",
       " ('fr_benzene',\n",
       "  <function rdkit.Chem.Fragments._LoadPatterns.<locals>.<lambda>(mol, countUnique=True, pattern=<rdkit.Chem.rdchem.Mol object at 0x0000018B5EB73C30>)>),\n",
       " ('fr_benzodiazepine',\n",
       "  <function rdkit.Chem.Fragments._LoadPatterns.<locals>.<lambda>(mol, countUnique=True, pattern=<rdkit.Chem.rdchem.Mol object at 0x0000018B5EB84040>)>),\n",
       " ('fr_bicyclic',\n",
       "  <function rdkit.Chem.Fragments._LoadPatterns.<locals>.<lambda>(mol, countUnique=True, pattern=<rdkit.Chem.rdchem.Mol object at 0x0000018B5EB73BC0>)>),\n",
       " ('fr_diazo',\n",
       "  <function rdkit.Chem.Fragments._LoadPatterns.<locals>.<lambda>(mol, countUnique=True, pattern=<rdkit.Chem.rdchem.Mol object at 0x0000018B5EB72B90>)>),\n",
       " ('fr_dihydropyridine',\n",
       "  <function rdkit.Chem.Fragments._LoadPatterns.<locals>.<lambda>(mol, countUnique=True, pattern=<rdkit.Chem.rdchem.Mol object at 0x0000018B5EB73ED0>)>),\n",
       " ('fr_epoxide',\n",
       "  <function rdkit.Chem.Fragments._LoadPatterns.<locals>.<lambda>(mol, countUnique=True, pattern=<rdkit.Chem.rdchem.Mol object at 0x0000018B5EB73AE0>)>),\n",
       " ('fr_ester',\n",
       "  <function rdkit.Chem.Fragments._LoadPatterns.<locals>.<lambda>(mol, countUnique=True, pattern=<rdkit.Chem.rdchem.Mol object at 0x0000018B5EB72180>)>),\n",
       " ('fr_ether',\n",
       "  <function rdkit.Chem.Fragments._LoadPatterns.<locals>.<lambda>(mol, countUnique=True, pattern=<rdkit.Chem.rdchem.Mol object at 0x0000018B5EB72420>)>),\n",
       " ('fr_furan',\n",
       "  <function rdkit.Chem.Fragments._LoadPatterns.<locals>.<lambda>(mol, countUnique=True, pattern=<rdkit.Chem.rdchem.Mol object at 0x0000018B5EB73610>)>),\n",
       " ('fr_guanido',\n",
       "  <function rdkit.Chem.Fragments._LoadPatterns.<locals>.<lambda>(mol, countUnique=True, pattern=<rdkit.Chem.rdchem.Mol object at 0x0000018B5EB72E30>)>),\n",
       " ('fr_halogen',\n",
       "  <function rdkit.Chem.Fragments._LoadPatterns.<locals>.<lambda>(mol, countUnique=True, pattern=<rdkit.Chem.rdchem.Mol object at 0x0000018B5EB730D0>)>),\n",
       " ('fr_hdrzine',\n",
       "  <function rdkit.Chem.Fragments._LoadPatterns.<locals>.<lambda>(mol, countUnique=True, pattern=<rdkit.Chem.rdchem.Mol object at 0x0000018B5EB72960>)>),\n",
       " ('fr_hdrzone',\n",
       "  <function rdkit.Chem.Fragments._LoadPatterns.<locals>.<lambda>(mol, countUnique=True, pattern=<rdkit.Chem.rdchem.Mol object at 0x0000018B5EB729D0>)>),\n",
       " ('fr_imidazole',\n",
       "  <function rdkit.Chem.Fragments._LoadPatterns.<locals>.<lambda>(mol, countUnique=True, pattern=<rdkit.Chem.rdchem.Mol object at 0x0000018B5EB735A0>)>),\n",
       " ('fr_imide',\n",
       "  <function rdkit.Chem.Fragments._LoadPatterns.<locals>.<lambda>(mol, countUnique=True, pattern=<rdkit.Chem.rdchem.Mol object at 0x0000018B5EB72F10>)>),\n",
       " ('fr_isocyan',\n",
       "  <function rdkit.Chem.Fragments._LoadPatterns.<locals>.<lambda>(mol, countUnique=True, pattern=<rdkit.Chem.rdchem.Mol object at 0x0000018B5EB72F80>)>),\n",
       " ('fr_isothiocyan',\n",
       "  <function rdkit.Chem.Fragments._LoadPatterns.<locals>.<lambda>(mol, countUnique=True, pattern=<rdkit.Chem.rdchem.Mol object at 0x0000018B5EB72FF0>)>),\n",
       " ('fr_ketone',\n",
       "  <function rdkit.Chem.Fragments._LoadPatterns.<locals>.<lambda>(mol, countUnique=True, pattern=<rdkit.Chem.rdchem.Mol object at 0x0000018B5EB723B0>)>),\n",
       " ('fr_ketone_Topliss',\n",
       "  <function rdkit.Chem.Fragments._LoadPatterns.<locals>.<lambda>(mol, countUnique=True, pattern=<rdkit.Chem.rdchem.Mol object at 0x0000018B5EB844A0>)>),\n",
       " ('fr_lactam',\n",
       "  <function rdkit.Chem.Fragments._LoadPatterns.<locals>.<lambda>(mol, countUnique=True, pattern=<rdkit.Chem.rdchem.Mol object at 0x0000018B5EB73990>)>),\n",
       " ('fr_lactone',\n",
       "  <function rdkit.Chem.Fragments._LoadPatterns.<locals>.<lambda>(mol, countUnique=True, pattern=<rdkit.Chem.rdchem.Mol object at 0x0000018B5EB73A00>)>),\n",
       " ('fr_methoxy',\n",
       "  <function rdkit.Chem.Fragments._LoadPatterns.<locals>.<lambda>(mol, countUnique=True, pattern=<rdkit.Chem.rdchem.Mol object at 0x0000018B5EB720A0>)>),\n",
       " ('fr_morpholine',\n",
       "  <function rdkit.Chem.Fragments._LoadPatterns.<locals>.<lambda>(mol, countUnique=True, pattern=<rdkit.Chem.rdchem.Mol object at 0x0000018B5EB73920>)>),\n",
       " ('fr_nitrile',\n",
       "  <function rdkit.Chem.Fragments._LoadPatterns.<locals>.<lambda>(mol, countUnique=True, pattern=<rdkit.Chem.rdchem.Mol object at 0x0000018B5EB728F0>)>),\n",
       " ('fr_nitro',\n",
       "  <function rdkit.Chem.Fragments._LoadPatterns.<locals>.<lambda>(mol, countUnique=True, pattern=<rdkit.Chem.rdchem.Mol object at 0x0000018B5EB72B20>)>),\n",
       " ('fr_nitro_arom',\n",
       "  <function rdkit.Chem.Fragments._LoadPatterns.<locals>.<lambda>(mol, countUnique=True, pattern=<rdkit.Chem.rdchem.Mol object at 0x0000018B5EB73DF0>)>),\n",
       " ('fr_nitro_arom_nonortho',\n",
       "  <function rdkit.Chem.Fragments._LoadPatterns.<locals>.<lambda>(mol, countUnique=True, pattern=<rdkit.Chem.rdchem.Mol object at 0x0000018B5EB73F40>)>),\n",
       " ('fr_nitroso',\n",
       "  <function rdkit.Chem.Fragments._LoadPatterns.<locals>.<lambda>(mol, countUnique=True, pattern=<rdkit.Chem.rdchem.Mol object at 0x0000018B5EB72A40>)>),\n",
       " ('fr_oxazole',\n",
       "  <function rdkit.Chem.Fragments._LoadPatterns.<locals>.<lambda>(mol, countUnique=True, pattern=<rdkit.Chem.rdchem.Mol object at 0x0000018B5EB73760>)>),\n",
       " ('fr_oxime',\n",
       "  <function rdkit.Chem.Fragments._LoadPatterns.<locals>.<lambda>(mol, countUnique=True, pattern=<rdkit.Chem.rdchem.Mol object at 0x0000018B5EB72110>)>),\n",
       " ('fr_para_hydroxylation',\n",
       "  <function rdkit.Chem.Fragments._LoadPatterns.<locals>.<lambda>(mol, countUnique=True, pattern=<rdkit.Chem.rdchem.Mol object at 0x0000018B5EB84200>)>),\n",
       " ('fr_phenol',\n",
       "  <function rdkit.Chem.Fragments._LoadPatterns.<locals>.<lambda>(mol, countUnique=True, pattern=<rdkit.Chem.rdchem.Mol object at 0x0000018B5EB72490>)>),\n",
       " ('fr_phenol_noOrthoHbond',\n",
       "  <function rdkit.Chem.Fragments._LoadPatterns.<locals>.<lambda>(mol, countUnique=True, pattern=<rdkit.Chem.rdchem.Mol object at 0x0000018B5EB73E60>)>),\n",
       " ('fr_phos_acid',\n",
       "  <function rdkit.Chem.Fragments._LoadPatterns.<locals>.<lambda>(mol, countUnique=True, pattern=<rdkit.Chem.rdchem.Mol object at 0x0000018B5EB73CA0>)>),\n",
       " ('fr_phos_ester',\n",
       "  <function rdkit.Chem.Fragments._LoadPatterns.<locals>.<lambda>(mol, countUnique=True, pattern=<rdkit.Chem.rdchem.Mol object at 0x0000018B5EB73D10>)>),\n",
       " ('fr_piperdine',\n",
       "  <function rdkit.Chem.Fragments._LoadPatterns.<locals>.<lambda>(mol, countUnique=True, pattern=<rdkit.Chem.rdchem.Mol object at 0x0000018B5EB73840>)>),\n",
       " ('fr_piperzine',\n",
       "  <function rdkit.Chem.Fragments._LoadPatterns.<locals>.<lambda>(mol, countUnique=True, pattern=<rdkit.Chem.rdchem.Mol object at 0x0000018B5EB738B0>)>),\n",
       " ('fr_priamide',\n",
       "  <function rdkit.Chem.Fragments._LoadPatterns.<locals>.<lambda>(mol, countUnique=True, pattern=<rdkit.Chem.rdchem.Mol object at 0x0000018B5EB72D50>)>),\n",
       " ('fr_prisulfonamd',\n",
       "  <function rdkit.Chem.Fragments._LoadPatterns.<locals>.<lambda>(mol, countUnique=True, pattern=<rdkit.Chem.rdchem.Mol object at 0x0000018B5EB73450>)>),\n",
       " ('fr_pyridine',\n",
       "  <function rdkit.Chem.Fragments._LoadPatterns.<locals>.<lambda>(mol, countUnique=True, pattern=<rdkit.Chem.rdchem.Mol object at 0x0000018B5EB737D0>)>),\n",
       " ('fr_quatN',\n",
       "  <function rdkit.Chem.Fragments._LoadPatterns.<locals>.<lambda>(mol, countUnique=True, pattern=<rdkit.Chem.rdchem.Mol object at 0x0000018B5EB72570>)>),\n",
       " ('fr_sulfide',\n",
       "  <function rdkit.Chem.Fragments._LoadPatterns.<locals>.<lambda>(mol, countUnique=True, pattern=<rdkit.Chem.rdchem.Mol object at 0x0000018B5EB731B0>)>),\n",
       " ('fr_sulfonamd',\n",
       "  <function rdkit.Chem.Fragments._LoadPatterns.<locals>.<lambda>(mol, countUnique=True, pattern=<rdkit.Chem.rdchem.Mol object at 0x0000018B5EB73300>)>),\n",
       " ('fr_sulfone',\n",
       "  <function rdkit.Chem.Fragments._LoadPatterns.<locals>.<lambda>(mol, countUnique=True, pattern=<rdkit.Chem.rdchem.Mol object at 0x0000018B5EB733E0>)>),\n",
       " ('fr_term_acetylene',\n",
       "  <function rdkit.Chem.Fragments._LoadPatterns.<locals>.<lambda>(mol, countUnique=True, pattern=<rdkit.Chem.rdchem.Mol object at 0x0000018B5EB734C0>)>),\n",
       " ('fr_tetrazole',\n",
       "  <function rdkit.Chem.Fragments._LoadPatterns.<locals>.<lambda>(mol, countUnique=True, pattern=<rdkit.Chem.rdchem.Mol object at 0x0000018B5EB73A70>)>),\n",
       " ('fr_thiazole',\n",
       "  <function rdkit.Chem.Fragments._LoadPatterns.<locals>.<lambda>(mol, countUnique=True, pattern=<rdkit.Chem.rdchem.Mol object at 0x0000018B5EB736F0>)>),\n",
       " ('fr_thiocyan',\n",
       "  <function rdkit.Chem.Fragments._LoadPatterns.<locals>.<lambda>(mol, countUnique=True, pattern=<rdkit.Chem.rdchem.Mol object at 0x0000018B5EB73060>)>),\n",
       " ('fr_thiophene',\n",
       "  <function rdkit.Chem.Fragments._LoadPatterns.<locals>.<lambda>(mol, countUnique=True, pattern=<rdkit.Chem.rdchem.Mol object at 0x0000018B5EB73680>)>),\n",
       " ('fr_unbrch_alkane',\n",
       "  <function rdkit.Chem.Fragments._LoadPatterns.<locals>.<lambda>(mol, countUnique=True, pattern=<rdkit.Chem.rdchem.Mol object at 0x0000018B5EB73B50>)>),\n",
       " ('fr_urea',\n",
       "  <function rdkit.Chem.Fragments._LoadPatterns.<locals>.<lambda>(mol, countUnique=True, pattern=<rdkit.Chem.rdchem.Mol object at 0x0000018B5EB73530>)>)]"
      ]
     },
     "execution_count": 9,
     "metadata": {},
     "output_type": "execute_result"
    }
   ],
   "source": [
    "dm.descriptors.descriptors.Descriptors.descList"
   ]
  },
  {
   "cell_type": "markdown",
   "metadata": {},
   "source": [
    "This is the list of 210 descriptors. Which descriptors are the most important?"
   ]
  },
  {
   "cell_type": "code",
   "execution_count": 10,
   "metadata": {},
   "outputs": [
    {
     "data": {
      "text/plain": [
       "210"
      ]
     },
     "execution_count": 10,
     "metadata": {},
     "output_type": "execute_result"
    }
   ],
   "source": [
    "len(dm.descriptors.descriptors.Descriptors.descList)"
   ]
  },
  {
   "cell_type": "code",
   "execution_count": 11,
   "metadata": {},
   "outputs": [
    {
     "data": {
      "application/vnd.jupyter.widget-view+json": {
       "model_id": "2f2d7d4b681b45a89215df0d18d35da6",
       "version_major": 2,
       "version_minor": 0
      },
      "text/plain": [
       "  0%|          | 0/2943 [00:00<?, ?it/s]"
      ]
     },
     "metadata": {},
     "output_type": "display_data"
    }
   ],
   "source": [
    "all_desc_df = dm.descriptors.batch_compute_many_descriptors(mols=data['mols'].to_list(), progress=True, batch_size='auto')"
   ]
  },
  {
   "cell_type": "code",
   "execution_count": 12,
   "metadata": {},
   "outputs": [
    {
     "data": {
      "text/html": [
       "<div>\n",
       "<style scoped>\n",
       "    .dataframe tbody tr th:only-of-type {\n",
       "        vertical-align: middle;\n",
       "    }\n",
       "\n",
       "    .dataframe tbody tr th {\n",
       "        vertical-align: top;\n",
       "    }\n",
       "\n",
       "    .dataframe thead th {\n",
       "        text-align: right;\n",
       "    }\n",
       "</style>\n",
       "<table border=\"1\" class=\"dataframe\">\n",
       "  <thead>\n",
       "    <tr style=\"text-align: right;\">\n",
       "      <th></th>\n",
       "      <th>mw</th>\n",
       "      <th>fsp3</th>\n",
       "      <th>n_lipinski_hba</th>\n",
       "      <th>n_lipinski_hbd</th>\n",
       "      <th>n_rings</th>\n",
       "      <th>n_hetero_atoms</th>\n",
       "      <th>n_heavy_atoms</th>\n",
       "      <th>n_rotatable_bonds</th>\n",
       "      <th>n_radical_electrons</th>\n",
       "      <th>tpsa</th>\n",
       "      <th>qed</th>\n",
       "      <th>clogp</th>\n",
       "      <th>sas</th>\n",
       "      <th>n_aliphatic_carbocycles</th>\n",
       "      <th>n_aliphatic_heterocyles</th>\n",
       "      <th>n_aliphatic_rings</th>\n",
       "      <th>n_aromatic_carbocycles</th>\n",
       "      <th>n_aromatic_heterocyles</th>\n",
       "      <th>n_aromatic_rings</th>\n",
       "      <th>n_saturated_carbocycles</th>\n",
       "      <th>n_saturated_heterocyles</th>\n",
       "      <th>n_saturated_rings</th>\n",
       "    </tr>\n",
       "  </thead>\n",
       "  <tbody>\n",
       "    <tr>\n",
       "      <th>0</th>\n",
       "      <td>429.191323</td>\n",
       "      <td>0.260870</td>\n",
       "      <td>9</td>\n",
       "      <td>1</td>\n",
       "      <td>5</td>\n",
       "      <td>9</td>\n",
       "      <td>32</td>\n",
       "      <td>7</td>\n",
       "      <td>0</td>\n",
       "      <td>103.14</td>\n",
       "      <td>0.420000</td>\n",
       "      <td>3.9613</td>\n",
       "      <td>2.785385</td>\n",
       "      <td>0</td>\n",
       "      <td>0</td>\n",
       "      <td>0</td>\n",
       "      <td>1</td>\n",
       "      <td>4</td>\n",
       "      <td>5</td>\n",
       "      <td>0</td>\n",
       "      <td>0</td>\n",
       "      <td>0</td>\n",
       "    </tr>\n",
       "    <tr>\n",
       "      <th>1</th>\n",
       "      <td>479.206973</td>\n",
       "      <td>0.222222</td>\n",
       "      <td>9</td>\n",
       "      <td>1</td>\n",
       "      <td>6</td>\n",
       "      <td>9</td>\n",
       "      <td>36</td>\n",
       "      <td>7</td>\n",
       "      <td>0</td>\n",
       "      <td>103.14</td>\n",
       "      <td>0.341105</td>\n",
       "      <td>5.1145</td>\n",
       "      <td>2.869417</td>\n",
       "      <td>0</td>\n",
       "      <td>0</td>\n",
       "      <td>0</td>\n",
       "      <td>2</td>\n",
       "      <td>4</td>\n",
       "      <td>6</td>\n",
       "      <td>0</td>\n",
       "      <td>0</td>\n",
       "      <td>0</td>\n",
       "    </tr>\n",
       "    <tr>\n",
       "      <th>2</th>\n",
       "      <td>477.191323</td>\n",
       "      <td>0.148148</td>\n",
       "      <td>9</td>\n",
       "      <td>1</td>\n",
       "      <td>6</td>\n",
       "      <td>9</td>\n",
       "      <td>36</td>\n",
       "      <td>8</td>\n",
       "      <td>0</td>\n",
       "      <td>103.14</td>\n",
       "      <td>0.345039</td>\n",
       "      <td>4.5480</td>\n",
       "      <td>2.702531</td>\n",
       "      <td>0</td>\n",
       "      <td>0</td>\n",
       "      <td>0</td>\n",
       "      <td>2</td>\n",
       "      <td>4</td>\n",
       "      <td>6</td>\n",
       "      <td>0</td>\n",
       "      <td>0</td>\n",
       "      <td>0</td>\n",
       "    </tr>\n",
       "    <tr>\n",
       "      <th>3</th>\n",
       "      <td>445.186238</td>\n",
       "      <td>0.260870</td>\n",
       "      <td>10</td>\n",
       "      <td>1</td>\n",
       "      <td>5</td>\n",
       "      <td>10</td>\n",
       "      <td>33</td>\n",
       "      <td>8</td>\n",
       "      <td>0</td>\n",
       "      <td>112.37</td>\n",
       "      <td>0.386515</td>\n",
       "      <td>3.7976</td>\n",
       "      <td>2.792537</td>\n",
       "      <td>0</td>\n",
       "      <td>0</td>\n",
       "      <td>0</td>\n",
       "      <td>1</td>\n",
       "      <td>4</td>\n",
       "      <td>5</td>\n",
       "      <td>0</td>\n",
       "      <td>0</td>\n",
       "      <td>0</td>\n",
       "    </tr>\n",
       "    <tr>\n",
       "      <th>4</th>\n",
       "      <td>373.128723</td>\n",
       "      <td>0.105263</td>\n",
       "      <td>9</td>\n",
       "      <td>1</td>\n",
       "      <td>5</td>\n",
       "      <td>9</td>\n",
       "      <td>28</td>\n",
       "      <td>4</td>\n",
       "      <td>0</td>\n",
       "      <td>103.14</td>\n",
       "      <td>0.518988</td>\n",
       "      <td>2.4522</td>\n",
       "      <td>2.681130</td>\n",
       "      <td>0</td>\n",
       "      <td>0</td>\n",
       "      <td>0</td>\n",
       "      <td>1</td>\n",
       "      <td>4</td>\n",
       "      <td>5</td>\n",
       "      <td>0</td>\n",
       "      <td>0</td>\n",
       "      <td>0</td>\n",
       "    </tr>\n",
       "  </tbody>\n",
       "</table>\n",
       "</div>"
      ],
      "text/plain": [
       "           mw      fsp3  n_lipinski_hba  n_lipinski_hbd  n_rings  \\\n",
       "0  429.191323  0.260870               9               1        5   \n",
       "1  479.206973  0.222222               9               1        6   \n",
       "2  477.191323  0.148148               9               1        6   \n",
       "3  445.186238  0.260870              10               1        5   \n",
       "4  373.128723  0.105263               9               1        5   \n",
       "\n",
       "   n_hetero_atoms  n_heavy_atoms  n_rotatable_bonds  n_radical_electrons  \\\n",
       "0               9             32                  7                    0   \n",
       "1               9             36                  7                    0   \n",
       "2               9             36                  8                    0   \n",
       "3              10             33                  8                    0   \n",
       "4               9             28                  4                    0   \n",
       "\n",
       "     tpsa       qed   clogp       sas  n_aliphatic_carbocycles  \\\n",
       "0  103.14  0.420000  3.9613  2.785385                        0   \n",
       "1  103.14  0.341105  5.1145  2.869417                        0   \n",
       "2  103.14  0.345039  4.5480  2.702531                        0   \n",
       "3  112.37  0.386515  3.7976  2.792537                        0   \n",
       "4  103.14  0.518988  2.4522  2.681130                        0   \n",
       "\n",
       "   n_aliphatic_heterocyles  n_aliphatic_rings  n_aromatic_carbocycles  \\\n",
       "0                        0                  0                       1   \n",
       "1                        0                  0                       2   \n",
       "2                        0                  0                       2   \n",
       "3                        0                  0                       1   \n",
       "4                        0                  0                       1   \n",
       "\n",
       "   n_aromatic_heterocyles  n_aromatic_rings  n_saturated_carbocycles  \\\n",
       "0                       4                 5                        0   \n",
       "1                       4                 6                        0   \n",
       "2                       4                 6                        0   \n",
       "3                       4                 5                        0   \n",
       "4                       4                 5                        0   \n",
       "\n",
       "   n_saturated_heterocyles  n_saturated_rings  \n",
       "0                        0                  0  \n",
       "1                        0                  0  \n",
       "2                        0                  0  \n",
       "3                        0                  0  \n",
       "4                        0                  0  "
      ]
     },
     "execution_count": 12,
     "metadata": {},
     "output_type": "execute_result"
    }
   ],
   "source": [
    "all_desc_df.head()"
   ]
  },
  {
   "cell_type": "code",
   "execution_count": 13,
   "metadata": {},
   "outputs": [
    {
     "data": {
      "text/plain": [
       "array([0])"
      ]
     },
     "execution_count": 13,
     "metadata": {},
     "output_type": "execute_result"
    }
   ],
   "source": [
    "all_desc_df['n_radical_electrons'].unique()"
   ]
  },
  {
   "cell_type": "code",
   "execution_count": 14,
   "metadata": {},
   "outputs": [],
   "source": [
    "all_desc_df.drop(labels= 'n_radical_electrons', axis='columns', inplace=True)"
   ]
  },
  {
   "cell_type": "code",
   "execution_count": 15,
   "metadata": {},
   "outputs": [
    {
     "data": {
      "text/html": [
       "<div>\n",
       "<style scoped>\n",
       "    .dataframe tbody tr th:only-of-type {\n",
       "        vertical-align: middle;\n",
       "    }\n",
       "\n",
       "    .dataframe tbody tr th {\n",
       "        vertical-align: top;\n",
       "    }\n",
       "\n",
       "    .dataframe thead th {\n",
       "        text-align: right;\n",
       "    }\n",
       "</style>\n",
       "<table border=\"1\" class=\"dataframe\">\n",
       "  <thead>\n",
       "    <tr style=\"text-align: right;\">\n",
       "      <th></th>\n",
       "      <th>molecule_chembl_id</th>\n",
       "      <th>Ki</th>\n",
       "      <th>units</th>\n",
       "      <th>pKi</th>\n",
       "      <th>smiles</th>\n",
       "      <th>mols</th>\n",
       "      <th>maccs</th>\n",
       "      <th>mw</th>\n",
       "      <th>fsp3</th>\n",
       "      <th>n_lipinski_hba</th>\n",
       "      <th>n_lipinski_hbd</th>\n",
       "      <th>n_rings</th>\n",
       "      <th>n_hetero_atoms</th>\n",
       "      <th>n_heavy_atoms</th>\n",
       "      <th>n_rotatable_bonds</th>\n",
       "      <th>tpsa</th>\n",
       "      <th>qed</th>\n",
       "      <th>clogp</th>\n",
       "      <th>sas</th>\n",
       "      <th>n_aliphatic_carbocycles</th>\n",
       "      <th>n_aliphatic_heterocyles</th>\n",
       "      <th>n_aliphatic_rings</th>\n",
       "      <th>n_aromatic_carbocycles</th>\n",
       "      <th>n_aromatic_heterocyles</th>\n",
       "      <th>n_aromatic_rings</th>\n",
       "      <th>n_saturated_carbocycles</th>\n",
       "      <th>n_saturated_heterocyles</th>\n",
       "      <th>n_saturated_rings</th>\n",
       "    </tr>\n",
       "  </thead>\n",
       "  <tbody>\n",
       "    <tr>\n",
       "      <th>0</th>\n",
       "      <td>CHEMBL132806</td>\n",
       "      <td>57.0</td>\n",
       "      <td>nM</td>\n",
       "      <td>7.24</td>\n",
       "      <td>CC(C)CCn1cc2c(nc(NC(=O)Cc3ccccc3)n3nc(-c4ccco4...</td>\n",
       "      <td>&lt;rdkit.Chem.rdchem.Mol object at 0x0000018B5EA...</td>\n",
       "      <td>[0, 0, 0, 0, 0, 0, 0, 0, 0, 0, 0, 0, 0, 0, 0, ...</td>\n",
       "      <td>429.191323</td>\n",
       "      <td>0.260870</td>\n",
       "      <td>9</td>\n",
       "      <td>1</td>\n",
       "      <td>5</td>\n",
       "      <td>9</td>\n",
       "      <td>32</td>\n",
       "      <td>7</td>\n",
       "      <td>103.14</td>\n",
       "      <td>0.420000</td>\n",
       "      <td>3.9613</td>\n",
       "      <td>2.785385</td>\n",
       "      <td>0</td>\n",
       "      <td>0</td>\n",
       "      <td>0</td>\n",
       "      <td>1</td>\n",
       "      <td>4</td>\n",
       "      <td>5</td>\n",
       "      <td>0</td>\n",
       "      <td>0</td>\n",
       "      <td>0</td>\n",
       "    </tr>\n",
       "    <tr>\n",
       "      <th>1</th>\n",
       "      <td>CHEMBL336217</td>\n",
       "      <td>42.0</td>\n",
       "      <td>nM</td>\n",
       "      <td>7.38</td>\n",
       "      <td>CC(C)CCn1cc2c(nc(NC(=O)Cc3cccc4ccccc34)n3nc(-c...</td>\n",
       "      <td>&lt;rdkit.Chem.rdchem.Mol object at 0x0000018B5EA...</td>\n",
       "      <td>[0, 0, 0, 0, 0, 0, 0, 0, 0, 0, 0, 0, 0, 0, 0, ...</td>\n",
       "      <td>479.206973</td>\n",
       "      <td>0.222222</td>\n",
       "      <td>9</td>\n",
       "      <td>1</td>\n",
       "      <td>6</td>\n",
       "      <td>9</td>\n",
       "      <td>36</td>\n",
       "      <td>7</td>\n",
       "      <td>103.14</td>\n",
       "      <td>0.341105</td>\n",
       "      <td>5.1145</td>\n",
       "      <td>2.869417</td>\n",
       "      <td>0</td>\n",
       "      <td>0</td>\n",
       "      <td>0</td>\n",
       "      <td>2</td>\n",
       "      <td>4</td>\n",
       "      <td>6</td>\n",
       "      <td>0</td>\n",
       "      <td>0</td>\n",
       "      <td>0</td>\n",
       "    </tr>\n",
       "    <tr>\n",
       "      <th>2</th>\n",
       "      <td>CHEMBL134566</td>\n",
       "      <td>60.0</td>\n",
       "      <td>nM</td>\n",
       "      <td>7.22</td>\n",
       "      <td>O=C(Cc1ccccc1)Nc1nc2nn(CCCc3ccccc3)cc2c2nc(-c3...</td>\n",
       "      <td>&lt;rdkit.Chem.rdchem.Mol object at 0x0000018B5EA...</td>\n",
       "      <td>[0, 0, 0, 0, 0, 0, 0, 0, 0, 0, 0, 0, 0, 0, 0, ...</td>\n",
       "      <td>477.191323</td>\n",
       "      <td>0.148148</td>\n",
       "      <td>9</td>\n",
       "      <td>1</td>\n",
       "      <td>6</td>\n",
       "      <td>9</td>\n",
       "      <td>36</td>\n",
       "      <td>8</td>\n",
       "      <td>103.14</td>\n",
       "      <td>0.345039</td>\n",
       "      <td>4.5480</td>\n",
       "      <td>2.702531</td>\n",
       "      <td>0</td>\n",
       "      <td>0</td>\n",
       "      <td>0</td>\n",
       "      <td>2</td>\n",
       "      <td>4</td>\n",
       "      <td>6</td>\n",
       "      <td>0</td>\n",
       "      <td>0</td>\n",
       "      <td>0</td>\n",
       "    </tr>\n",
       "    <tr>\n",
       "      <th>3</th>\n",
       "      <td>CHEMBL435022</td>\n",
       "      <td>38.0</td>\n",
       "      <td>nM</td>\n",
       "      <td>7.42</td>\n",
       "      <td>CC(C)CCn1cc2c(nc(NC(=O)COc3ccccc3)n3nc(-c4ccco...</td>\n",
       "      <td>&lt;rdkit.Chem.rdchem.Mol object at 0x0000018B5EA...</td>\n",
       "      <td>[0, 0, 0, 0, 0, 0, 0, 0, 0, 0, 0, 0, 0, 0, 0, ...</td>\n",
       "      <td>445.186238</td>\n",
       "      <td>0.260870</td>\n",
       "      <td>10</td>\n",
       "      <td>1</td>\n",
       "      <td>5</td>\n",
       "      <td>10</td>\n",
       "      <td>33</td>\n",
       "      <td>8</td>\n",
       "      <td>112.37</td>\n",
       "      <td>0.386515</td>\n",
       "      <td>3.7976</td>\n",
       "      <td>2.792537</td>\n",
       "      <td>0</td>\n",
       "      <td>0</td>\n",
       "      <td>0</td>\n",
       "      <td>1</td>\n",
       "      <td>4</td>\n",
       "      <td>5</td>\n",
       "      <td>0</td>\n",
       "      <td>0</td>\n",
       "      <td>0</td>\n",
       "    </tr>\n",
       "    <tr>\n",
       "      <th>4</th>\n",
       "      <td>CHEMBL341376</td>\n",
       "      <td>423.0</td>\n",
       "      <td>nM</td>\n",
       "      <td>6.37</td>\n",
       "      <td>Cn1cc2c(nc(NC(=O)Cc3ccccc3)n3nc(-c4ccco4)nc23)n1</td>\n",
       "      <td>&lt;rdkit.Chem.rdchem.Mol object at 0x0000018B5EA...</td>\n",
       "      <td>[0, 0, 0, 0, 0, 0, 0, 0, 0, 0, 0, 0, 0, 0, 0, ...</td>\n",
       "      <td>373.128723</td>\n",
       "      <td>0.105263</td>\n",
       "      <td>9</td>\n",
       "      <td>1</td>\n",
       "      <td>5</td>\n",
       "      <td>9</td>\n",
       "      <td>28</td>\n",
       "      <td>4</td>\n",
       "      <td>103.14</td>\n",
       "      <td>0.518988</td>\n",
       "      <td>2.4522</td>\n",
       "      <td>2.681130</td>\n",
       "      <td>0</td>\n",
       "      <td>0</td>\n",
       "      <td>0</td>\n",
       "      <td>1</td>\n",
       "      <td>4</td>\n",
       "      <td>5</td>\n",
       "      <td>0</td>\n",
       "      <td>0</td>\n",
       "      <td>0</td>\n",
       "    </tr>\n",
       "  </tbody>\n",
       "</table>\n",
       "</div>"
      ],
      "text/plain": [
       "  molecule_chembl_id     Ki units   pKi  \\\n",
       "0       CHEMBL132806   57.0    nM  7.24   \n",
       "1       CHEMBL336217   42.0    nM  7.38   \n",
       "2       CHEMBL134566   60.0    nM  7.22   \n",
       "3       CHEMBL435022   38.0    nM  7.42   \n",
       "4       CHEMBL341376  423.0    nM  6.37   \n",
       "\n",
       "                                              smiles  \\\n",
       "0  CC(C)CCn1cc2c(nc(NC(=O)Cc3ccccc3)n3nc(-c4ccco4...   \n",
       "1  CC(C)CCn1cc2c(nc(NC(=O)Cc3cccc4ccccc34)n3nc(-c...   \n",
       "2  O=C(Cc1ccccc1)Nc1nc2nn(CCCc3ccccc3)cc2c2nc(-c3...   \n",
       "3  CC(C)CCn1cc2c(nc(NC(=O)COc3ccccc3)n3nc(-c4ccco...   \n",
       "4   Cn1cc2c(nc(NC(=O)Cc3ccccc3)n3nc(-c4ccco4)nc23)n1   \n",
       "\n",
       "                                                mols  \\\n",
       "0  <rdkit.Chem.rdchem.Mol object at 0x0000018B5EA...   \n",
       "1  <rdkit.Chem.rdchem.Mol object at 0x0000018B5EA...   \n",
       "2  <rdkit.Chem.rdchem.Mol object at 0x0000018B5EA...   \n",
       "3  <rdkit.Chem.rdchem.Mol object at 0x0000018B5EA...   \n",
       "4  <rdkit.Chem.rdchem.Mol object at 0x0000018B5EA...   \n",
       "\n",
       "                                               maccs          mw      fsp3  \\\n",
       "0  [0, 0, 0, 0, 0, 0, 0, 0, 0, 0, 0, 0, 0, 0, 0, ...  429.191323  0.260870   \n",
       "1  [0, 0, 0, 0, 0, 0, 0, 0, 0, 0, 0, 0, 0, 0, 0, ...  479.206973  0.222222   \n",
       "2  [0, 0, 0, 0, 0, 0, 0, 0, 0, 0, 0, 0, 0, 0, 0, ...  477.191323  0.148148   \n",
       "3  [0, 0, 0, 0, 0, 0, 0, 0, 0, 0, 0, 0, 0, 0, 0, ...  445.186238  0.260870   \n",
       "4  [0, 0, 0, 0, 0, 0, 0, 0, 0, 0, 0, 0, 0, 0, 0, ...  373.128723  0.105263   \n",
       "\n",
       "   n_lipinski_hba  n_lipinski_hbd  n_rings  n_hetero_atoms  n_heavy_atoms  \\\n",
       "0               9               1        5               9             32   \n",
       "1               9               1        6               9             36   \n",
       "2               9               1        6               9             36   \n",
       "3              10               1        5              10             33   \n",
       "4               9               1        5               9             28   \n",
       "\n",
       "   n_rotatable_bonds    tpsa       qed   clogp       sas  \\\n",
       "0                  7  103.14  0.420000  3.9613  2.785385   \n",
       "1                  7  103.14  0.341105  5.1145  2.869417   \n",
       "2                  8  103.14  0.345039  4.5480  2.702531   \n",
       "3                  8  112.37  0.386515  3.7976  2.792537   \n",
       "4                  4  103.14  0.518988  2.4522  2.681130   \n",
       "\n",
       "   n_aliphatic_carbocycles  n_aliphatic_heterocyles  n_aliphatic_rings  \\\n",
       "0                        0                        0                  0   \n",
       "1                        0                        0                  0   \n",
       "2                        0                        0                  0   \n",
       "3                        0                        0                  0   \n",
       "4                        0                        0                  0   \n",
       "\n",
       "   n_aromatic_carbocycles  n_aromatic_heterocyles  n_aromatic_rings  \\\n",
       "0                       1                       4                 5   \n",
       "1                       2                       4                 6   \n",
       "2                       2                       4                 6   \n",
       "3                       1                       4                 5   \n",
       "4                       1                       4                 5   \n",
       "\n",
       "   n_saturated_carbocycles  n_saturated_heterocyles  n_saturated_rings  \n",
       "0                        0                        0                  0  \n",
       "1                        0                        0                  0  \n",
       "2                        0                        0                  0  \n",
       "3                        0                        0                  0  \n",
       "4                        0                        0                  0  "
      ]
     },
     "execution_count": 15,
     "metadata": {},
     "output_type": "execute_result"
    }
   ],
   "source": [
    "data = pd.concat([data, all_desc_df], axis=1)\n",
    "data.head()"
   ]
  },
  {
   "cell_type": "code",
   "execution_count": 16,
   "metadata": {},
   "outputs": [
    {
     "data": {
      "text/plain": [
       "(2943, 28)"
      ]
     },
     "execution_count": 16,
     "metadata": {},
     "output_type": "execute_result"
    }
   ],
   "source": [
    "data.shape"
   ]
  },
  {
   "cell_type": "markdown",
   "metadata": {},
   "source": [
    "All rows in ' 'n_radical_electrons' column are equal to 0.0, so we can drop it safely"
   ]
  },
  {
   "cell_type": "code",
   "execution_count": 17,
   "metadata": {},
   "outputs": [
    {
     "data": {
      "text/plain": [
       "Index(['mw', 'fsp3', 'n_lipinski_hba', 'n_lipinski_hbd', 'n_rings',\n",
       "       'n_hetero_atoms', 'n_heavy_atoms', 'n_rotatable_bonds', 'tpsa', 'qed',\n",
       "       'clogp', 'sas', 'n_aliphatic_carbocycles', 'n_aliphatic_heterocyles',\n",
       "       'n_aliphatic_rings', 'n_aromatic_carbocycles', 'n_aromatic_heterocyles',\n",
       "       'n_aromatic_rings', 'n_saturated_carbocycles',\n",
       "       'n_saturated_heterocyles', 'n_saturated_rings'],\n",
       "      dtype='object')"
      ]
     },
     "execution_count": 17,
     "metadata": {},
     "output_type": "execute_result"
    }
   ],
   "source": [
    "all_desc_df.columns"
   ]
  },
  {
   "cell_type": "code",
   "execution_count": 18,
   "metadata": {},
   "outputs": [
    {
     "data": {
      "text/plain": [
       "False"
      ]
     },
     "execution_count": 18,
     "metadata": {},
     "output_type": "execute_result"
    }
   ],
   "source": [
    "'n_radical_electrons' in data.columns"
   ]
  },
  {
   "cell_type": "code",
   "execution_count": 19,
   "metadata": {},
   "outputs": [
    {
     "data": {
      "text/plain": [
       "(2943, 167)"
      ]
     },
     "execution_count": 19,
     "metadata": {},
     "output_type": "execute_result"
    }
   ],
   "source": [
    "X_all = np.stack(data['maccs'])\n",
    "X_all.shape"
   ]
  },
  {
   "cell_type": "code",
   "execution_count": 20,
   "metadata": {},
   "outputs": [
    {
     "data": {
      "text/plain": [
       "['pKi',\n",
       " 'fsp3',\n",
       " 'n_lipinski_hba',\n",
       " 'n_lipinski_hbd',\n",
       " 'n_rings',\n",
       " 'n_hetero_atoms',\n",
       " 'n_heavy_atoms',\n",
       " 'n_rotatable_bonds',\n",
       " 'tpsa',\n",
       " 'qed',\n",
       " 'clogp',\n",
       " 'sas',\n",
       " 'n_aliphatic_carbocycles',\n",
       " 'n_aliphatic_heterocyles',\n",
       " 'n_aliphatic_rings',\n",
       " 'n_aromatic_carbocycles',\n",
       " 'n_aromatic_heterocyles',\n",
       " 'n_aromatic_rings',\n",
       " 'n_saturated_carbocycles',\n",
       " 'n_saturated_heterocyles',\n",
       " 'n_saturated_rings']"
      ]
     },
     "execution_count": 20,
     "metadata": {},
     "output_type": "execute_result"
    }
   ],
   "source": [
    "col_y = ['pKi'] + list(all_desc_df.columns[1:])\n",
    "col_y"
   ]
  },
  {
   "cell_type": "code",
   "execution_count": 21,
   "metadata": {},
   "outputs": [
    {
     "data": {
      "text/plain": [
       "(2943, 21)"
      ]
     },
     "execution_count": 21,
     "metadata": {},
     "output_type": "execute_result"
    }
   ],
   "source": [
    "y_all = data[col_y]\n",
    "y_all.shape"
   ]
  },
  {
   "cell_type": "code",
   "execution_count": 22,
   "metadata": {},
   "outputs": [],
   "source": [
    "X_1, X_test, y_1, y_test = train_test_split(X_all, y_all, test_size=0.2, random_state=42)"
   ]
  },
  {
   "cell_type": "code",
   "execution_count": 23,
   "metadata": {},
   "outputs": [],
   "source": [
    "X_train, X_val, y_train, y_val = train_test_split(X_1, y_1, test_size=0.2, random_state=42)"
   ]
  },
  {
   "cell_type": "code",
   "execution_count": 24,
   "metadata": {},
   "outputs": [
    {
     "data": {
      "text/plain": [
       "((1883, 167), (471, 167), (589, 167))"
      ]
     },
     "execution_count": 24,
     "metadata": {},
     "output_type": "execute_result"
    }
   ],
   "source": [
    "X_train.shape, X_val.shape, X_test.shape"
   ]
  },
  {
   "cell_type": "code",
   "execution_count": 25,
   "metadata": {},
   "outputs": [
    {
     "data": {
      "text/plain": [
       "((1883, 21), (471, 21), (589, 21))"
      ]
     },
     "execution_count": 25,
     "metadata": {},
     "output_type": "execute_result"
    }
   ],
   "source": [
    "y_train.shape, y_val.shape, y_test.shape"
   ]
  },
  {
   "cell_type": "code",
   "execution_count": 26,
   "metadata": {},
   "outputs": [],
   "source": [
    "rf_reg = RandomForestRegressor(n_estimators=100, criterion='squared_error', n_jobs=-1, random_state=42)"
   ]
  },
  {
   "cell_type": "code",
   "execution_count": 27,
   "metadata": {},
   "outputs": [],
   "source": [
    "rf_cross = []\n",
    "for i in range(y_train.shape[1]):\n",
    "    score = - cross_val_score(rf_reg, X_train, y_train.iloc[:, i], cv=5, n_jobs=-1, scoring='neg_root_mean_squared_error')\n",
    "    rf_cross.append(score.mean())"
   ]
  },
  {
   "cell_type": "code",
   "execution_count": 28,
   "metadata": {},
   "outputs": [
    {
     "data": {
      "text/plain": [
       "[np.float64(0.739325574048611),\n",
       " np.float64(0.04403989752992295),\n",
       " np.float64(0.5529716940359378),\n",
       " np.float64(0.20027233561372465),\n",
       " np.float64(0.3733946817711795),\n",
       " np.float64(0.6595744210214618),\n",
       " np.float64(2.21577491893581),\n",
       " np.float64(0.7287246969827195),\n",
       " np.float64(7.191903227596302),\n",
       " np.float64(0.06738606957080148),\n",
       " np.float64(0.6292274173296046),\n",
       " np.float64(0.1986290203400007),\n",
       " np.float64(0.17760858547665243),\n",
       " np.float64(0.1705741020494557),\n",
       " np.float64(0.2466878665920222),\n",
       " np.float64(0.3716329611714874),\n",
       " np.float64(0.32814529386286273),\n",
       " np.float64(0.37465512634675985),\n",
       " np.float64(0.1517909474493001),\n",
       " np.float64(0.13688993242264055),\n",
       " np.float64(0.20336124948047582)]"
      ]
     },
     "execution_count": 28,
     "metadata": {},
     "output_type": "execute_result"
    }
   ],
   "source": [
    "rf_cross"
   ]
  },
  {
   "cell_type": "code",
   "execution_count": 29,
   "metadata": {},
   "outputs": [
    {
     "data": {
      "text/plain": [
       "pKi                        0.739326\n",
       "fsp3                       0.044040\n",
       "n_lipinski_hba             0.552972\n",
       "n_lipinski_hbd             0.200272\n",
       "n_rings                    0.373395\n",
       "n_hetero_atoms             0.659574\n",
       "n_heavy_atoms              2.215775\n",
       "n_rotatable_bonds          0.728725\n",
       "tpsa                       7.191903\n",
       "qed                        0.067386\n",
       "clogp                      0.629227\n",
       "sas                        0.198629\n",
       "n_aliphatic_carbocycles    0.177609\n",
       "n_aliphatic_heterocyles    0.170574\n",
       "n_aliphatic_rings          0.246688\n",
       "n_aromatic_carbocycles     0.371633\n",
       "n_aromatic_heterocyles     0.328145\n",
       "n_aromatic_rings           0.374655\n",
       "n_saturated_carbocycles    0.151791\n",
       "n_saturated_heterocyles    0.136890\n",
       "n_saturated_rings          0.203361\n",
       "Name: random_forest, dtype: float64"
      ]
     },
     "execution_count": 29,
     "metadata": {},
     "output_type": "execute_result"
    }
   ],
   "source": [
    "rf_cros_df = pd.Series(rf_cross, index=col_y, name='random_forest')\n",
    "rf_cros_df"
   ]
  },
  {
   "cell_type": "code",
   "execution_count": 30,
   "metadata": {},
   "outputs": [
    {
     "data": {
      "text/html": [
       "<style>#sk-container-id-1 {\n",
       "  /* Definition of color scheme common for light and dark mode */\n",
       "  --sklearn-color-text: black;\n",
       "  --sklearn-color-line: gray;\n",
       "  /* Definition of color scheme for unfitted estimators */\n",
       "  --sklearn-color-unfitted-level-0: #fff5e6;\n",
       "  --sklearn-color-unfitted-level-1: #f6e4d2;\n",
       "  --sklearn-color-unfitted-level-2: #ffe0b3;\n",
       "  --sklearn-color-unfitted-level-3: chocolate;\n",
       "  /* Definition of color scheme for fitted estimators */\n",
       "  --sklearn-color-fitted-level-0: #f0f8ff;\n",
       "  --sklearn-color-fitted-level-1: #d4ebff;\n",
       "  --sklearn-color-fitted-level-2: #b3dbfd;\n",
       "  --sklearn-color-fitted-level-3: cornflowerblue;\n",
       "\n",
       "  /* Specific color for light theme */\n",
       "  --sklearn-color-text-on-default-background: var(--sg-text-color, var(--theme-code-foreground, var(--jp-content-font-color1, black)));\n",
       "  --sklearn-color-background: var(--sg-background-color, var(--theme-background, var(--jp-layout-color0, white)));\n",
       "  --sklearn-color-border-box: var(--sg-text-color, var(--theme-code-foreground, var(--jp-content-font-color1, black)));\n",
       "  --sklearn-color-icon: #696969;\n",
       "\n",
       "  @media (prefers-color-scheme: dark) {\n",
       "    /* Redefinition of color scheme for dark theme */\n",
       "    --sklearn-color-text-on-default-background: var(--sg-text-color, var(--theme-code-foreground, var(--jp-content-font-color1, white)));\n",
       "    --sklearn-color-background: var(--sg-background-color, var(--theme-background, var(--jp-layout-color0, #111)));\n",
       "    --sklearn-color-border-box: var(--sg-text-color, var(--theme-code-foreground, var(--jp-content-font-color1, white)));\n",
       "    --sklearn-color-icon: #878787;\n",
       "  }\n",
       "}\n",
       "\n",
       "#sk-container-id-1 {\n",
       "  color: var(--sklearn-color-text);\n",
       "}\n",
       "\n",
       "#sk-container-id-1 pre {\n",
       "  padding: 0;\n",
       "}\n",
       "\n",
       "#sk-container-id-1 input.sk-hidden--visually {\n",
       "  border: 0;\n",
       "  clip: rect(1px 1px 1px 1px);\n",
       "  clip: rect(1px, 1px, 1px, 1px);\n",
       "  height: 1px;\n",
       "  margin: -1px;\n",
       "  overflow: hidden;\n",
       "  padding: 0;\n",
       "  position: absolute;\n",
       "  width: 1px;\n",
       "}\n",
       "\n",
       "#sk-container-id-1 div.sk-dashed-wrapped {\n",
       "  border: 1px dashed var(--sklearn-color-line);\n",
       "  margin: 0 0.4em 0.5em 0.4em;\n",
       "  box-sizing: border-box;\n",
       "  padding-bottom: 0.4em;\n",
       "  background-color: var(--sklearn-color-background);\n",
       "}\n",
       "\n",
       "#sk-container-id-1 div.sk-container {\n",
       "  /* jupyter's `normalize.less` sets `[hidden] { display: none; }`\n",
       "     but bootstrap.min.css set `[hidden] { display: none !important; }`\n",
       "     so we also need the `!important` here to be able to override the\n",
       "     default hidden behavior on the sphinx rendered scikit-learn.org.\n",
       "     See: https://github.com/scikit-learn/scikit-learn/issues/21755 */\n",
       "  display: inline-block !important;\n",
       "  position: relative;\n",
       "}\n",
       "\n",
       "#sk-container-id-1 div.sk-text-repr-fallback {\n",
       "  display: none;\n",
       "}\n",
       "\n",
       "div.sk-parallel-item,\n",
       "div.sk-serial,\n",
       "div.sk-item {\n",
       "  /* draw centered vertical line to link estimators */\n",
       "  background-image: linear-gradient(var(--sklearn-color-text-on-default-background), var(--sklearn-color-text-on-default-background));\n",
       "  background-size: 2px 100%;\n",
       "  background-repeat: no-repeat;\n",
       "  background-position: center center;\n",
       "}\n",
       "\n",
       "/* Parallel-specific style estimator block */\n",
       "\n",
       "#sk-container-id-1 div.sk-parallel-item::after {\n",
       "  content: \"\";\n",
       "  width: 100%;\n",
       "  border-bottom: 2px solid var(--sklearn-color-text-on-default-background);\n",
       "  flex-grow: 1;\n",
       "}\n",
       "\n",
       "#sk-container-id-1 div.sk-parallel {\n",
       "  display: flex;\n",
       "  align-items: stretch;\n",
       "  justify-content: center;\n",
       "  background-color: var(--sklearn-color-background);\n",
       "  position: relative;\n",
       "}\n",
       "\n",
       "#sk-container-id-1 div.sk-parallel-item {\n",
       "  display: flex;\n",
       "  flex-direction: column;\n",
       "}\n",
       "\n",
       "#sk-container-id-1 div.sk-parallel-item:first-child::after {\n",
       "  align-self: flex-end;\n",
       "  width: 50%;\n",
       "}\n",
       "\n",
       "#sk-container-id-1 div.sk-parallel-item:last-child::after {\n",
       "  align-self: flex-start;\n",
       "  width: 50%;\n",
       "}\n",
       "\n",
       "#sk-container-id-1 div.sk-parallel-item:only-child::after {\n",
       "  width: 0;\n",
       "}\n",
       "\n",
       "/* Serial-specific style estimator block */\n",
       "\n",
       "#sk-container-id-1 div.sk-serial {\n",
       "  display: flex;\n",
       "  flex-direction: column;\n",
       "  align-items: center;\n",
       "  background-color: var(--sklearn-color-background);\n",
       "  padding-right: 1em;\n",
       "  padding-left: 1em;\n",
       "}\n",
       "\n",
       "\n",
       "/* Toggleable style: style used for estimator/Pipeline/ColumnTransformer box that is\n",
       "clickable and can be expanded/collapsed.\n",
       "- Pipeline and ColumnTransformer use this feature and define the default style\n",
       "- Estimators will overwrite some part of the style using the `sk-estimator` class\n",
       "*/\n",
       "\n",
       "/* Pipeline and ColumnTransformer style (default) */\n",
       "\n",
       "#sk-container-id-1 div.sk-toggleable {\n",
       "  /* Default theme specific background. It is overwritten whether we have a\n",
       "  specific estimator or a Pipeline/ColumnTransformer */\n",
       "  background-color: var(--sklearn-color-background);\n",
       "}\n",
       "\n",
       "/* Toggleable label */\n",
       "#sk-container-id-1 label.sk-toggleable__label {\n",
       "  cursor: pointer;\n",
       "  display: block;\n",
       "  width: 100%;\n",
       "  margin-bottom: 0;\n",
       "  padding: 0.5em;\n",
       "  box-sizing: border-box;\n",
       "  text-align: center;\n",
       "}\n",
       "\n",
       "#sk-container-id-1 label.sk-toggleable__label-arrow:before {\n",
       "  /* Arrow on the left of the label */\n",
       "  content: \"▸\";\n",
       "  float: left;\n",
       "  margin-right: 0.25em;\n",
       "  color: var(--sklearn-color-icon);\n",
       "}\n",
       "\n",
       "#sk-container-id-1 label.sk-toggleable__label-arrow:hover:before {\n",
       "  color: var(--sklearn-color-text);\n",
       "}\n",
       "\n",
       "/* Toggleable content - dropdown */\n",
       "\n",
       "#sk-container-id-1 div.sk-toggleable__content {\n",
       "  max-height: 0;\n",
       "  max-width: 0;\n",
       "  overflow: hidden;\n",
       "  text-align: left;\n",
       "  /* unfitted */\n",
       "  background-color: var(--sklearn-color-unfitted-level-0);\n",
       "}\n",
       "\n",
       "#sk-container-id-1 div.sk-toggleable__content.fitted {\n",
       "  /* fitted */\n",
       "  background-color: var(--sklearn-color-fitted-level-0);\n",
       "}\n",
       "\n",
       "#sk-container-id-1 div.sk-toggleable__content pre {\n",
       "  margin: 0.2em;\n",
       "  border-radius: 0.25em;\n",
       "  color: var(--sklearn-color-text);\n",
       "  /* unfitted */\n",
       "  background-color: var(--sklearn-color-unfitted-level-0);\n",
       "}\n",
       "\n",
       "#sk-container-id-1 div.sk-toggleable__content.fitted pre {\n",
       "  /* unfitted */\n",
       "  background-color: var(--sklearn-color-fitted-level-0);\n",
       "}\n",
       "\n",
       "#sk-container-id-1 input.sk-toggleable__control:checked~div.sk-toggleable__content {\n",
       "  /* Expand drop-down */\n",
       "  max-height: 200px;\n",
       "  max-width: 100%;\n",
       "  overflow: auto;\n",
       "}\n",
       "\n",
       "#sk-container-id-1 input.sk-toggleable__control:checked~label.sk-toggleable__label-arrow:before {\n",
       "  content: \"▾\";\n",
       "}\n",
       "\n",
       "/* Pipeline/ColumnTransformer-specific style */\n",
       "\n",
       "#sk-container-id-1 div.sk-label input.sk-toggleable__control:checked~label.sk-toggleable__label {\n",
       "  color: var(--sklearn-color-text);\n",
       "  background-color: var(--sklearn-color-unfitted-level-2);\n",
       "}\n",
       "\n",
       "#sk-container-id-1 div.sk-label.fitted input.sk-toggleable__control:checked~label.sk-toggleable__label {\n",
       "  background-color: var(--sklearn-color-fitted-level-2);\n",
       "}\n",
       "\n",
       "/* Estimator-specific style */\n",
       "\n",
       "/* Colorize estimator box */\n",
       "#sk-container-id-1 div.sk-estimator input.sk-toggleable__control:checked~label.sk-toggleable__label {\n",
       "  /* unfitted */\n",
       "  background-color: var(--sklearn-color-unfitted-level-2);\n",
       "}\n",
       "\n",
       "#sk-container-id-1 div.sk-estimator.fitted input.sk-toggleable__control:checked~label.sk-toggleable__label {\n",
       "  /* fitted */\n",
       "  background-color: var(--sklearn-color-fitted-level-2);\n",
       "}\n",
       "\n",
       "#sk-container-id-1 div.sk-label label.sk-toggleable__label,\n",
       "#sk-container-id-1 div.sk-label label {\n",
       "  /* The background is the default theme color */\n",
       "  color: var(--sklearn-color-text-on-default-background);\n",
       "}\n",
       "\n",
       "/* On hover, darken the color of the background */\n",
       "#sk-container-id-1 div.sk-label:hover label.sk-toggleable__label {\n",
       "  color: var(--sklearn-color-text);\n",
       "  background-color: var(--sklearn-color-unfitted-level-2);\n",
       "}\n",
       "\n",
       "/* Label box, darken color on hover, fitted */\n",
       "#sk-container-id-1 div.sk-label.fitted:hover label.sk-toggleable__label.fitted {\n",
       "  color: var(--sklearn-color-text);\n",
       "  background-color: var(--sklearn-color-fitted-level-2);\n",
       "}\n",
       "\n",
       "/* Estimator label */\n",
       "\n",
       "#sk-container-id-1 div.sk-label label {\n",
       "  font-family: monospace;\n",
       "  font-weight: bold;\n",
       "  display: inline-block;\n",
       "  line-height: 1.2em;\n",
       "}\n",
       "\n",
       "#sk-container-id-1 div.sk-label-container {\n",
       "  text-align: center;\n",
       "}\n",
       "\n",
       "/* Estimator-specific */\n",
       "#sk-container-id-1 div.sk-estimator {\n",
       "  font-family: monospace;\n",
       "  border: 1px dotted var(--sklearn-color-border-box);\n",
       "  border-radius: 0.25em;\n",
       "  box-sizing: border-box;\n",
       "  margin-bottom: 0.5em;\n",
       "  /* unfitted */\n",
       "  background-color: var(--sklearn-color-unfitted-level-0);\n",
       "}\n",
       "\n",
       "#sk-container-id-1 div.sk-estimator.fitted {\n",
       "  /* fitted */\n",
       "  background-color: var(--sklearn-color-fitted-level-0);\n",
       "}\n",
       "\n",
       "/* on hover */\n",
       "#sk-container-id-1 div.sk-estimator:hover {\n",
       "  /* unfitted */\n",
       "  background-color: var(--sklearn-color-unfitted-level-2);\n",
       "}\n",
       "\n",
       "#sk-container-id-1 div.sk-estimator.fitted:hover {\n",
       "  /* fitted */\n",
       "  background-color: var(--sklearn-color-fitted-level-2);\n",
       "}\n",
       "\n",
       "/* Specification for estimator info (e.g. \"i\" and \"?\") */\n",
       "\n",
       "/* Common style for \"i\" and \"?\" */\n",
       "\n",
       ".sk-estimator-doc-link,\n",
       "a:link.sk-estimator-doc-link,\n",
       "a:visited.sk-estimator-doc-link {\n",
       "  float: right;\n",
       "  font-size: smaller;\n",
       "  line-height: 1em;\n",
       "  font-family: monospace;\n",
       "  background-color: var(--sklearn-color-background);\n",
       "  border-radius: 1em;\n",
       "  height: 1em;\n",
       "  width: 1em;\n",
       "  text-decoration: none !important;\n",
       "  margin-left: 1ex;\n",
       "  /* unfitted */\n",
       "  border: var(--sklearn-color-unfitted-level-1) 1pt solid;\n",
       "  color: var(--sklearn-color-unfitted-level-1);\n",
       "}\n",
       "\n",
       ".sk-estimator-doc-link.fitted,\n",
       "a:link.sk-estimator-doc-link.fitted,\n",
       "a:visited.sk-estimator-doc-link.fitted {\n",
       "  /* fitted */\n",
       "  border: var(--sklearn-color-fitted-level-1) 1pt solid;\n",
       "  color: var(--sklearn-color-fitted-level-1);\n",
       "}\n",
       "\n",
       "/* On hover */\n",
       "div.sk-estimator:hover .sk-estimator-doc-link:hover,\n",
       ".sk-estimator-doc-link:hover,\n",
       "div.sk-label-container:hover .sk-estimator-doc-link:hover,\n",
       ".sk-estimator-doc-link:hover {\n",
       "  /* unfitted */\n",
       "  background-color: var(--sklearn-color-unfitted-level-3);\n",
       "  color: var(--sklearn-color-background);\n",
       "  text-decoration: none;\n",
       "}\n",
       "\n",
       "div.sk-estimator.fitted:hover .sk-estimator-doc-link.fitted:hover,\n",
       ".sk-estimator-doc-link.fitted:hover,\n",
       "div.sk-label-container:hover .sk-estimator-doc-link.fitted:hover,\n",
       ".sk-estimator-doc-link.fitted:hover {\n",
       "  /* fitted */\n",
       "  background-color: var(--sklearn-color-fitted-level-3);\n",
       "  color: var(--sklearn-color-background);\n",
       "  text-decoration: none;\n",
       "}\n",
       "\n",
       "/* Span, style for the box shown on hovering the info icon */\n",
       ".sk-estimator-doc-link span {\n",
       "  display: none;\n",
       "  z-index: 9999;\n",
       "  position: relative;\n",
       "  font-weight: normal;\n",
       "  right: .2ex;\n",
       "  padding: .5ex;\n",
       "  margin: .5ex;\n",
       "  width: min-content;\n",
       "  min-width: 20ex;\n",
       "  max-width: 50ex;\n",
       "  color: var(--sklearn-color-text);\n",
       "  box-shadow: 2pt 2pt 4pt #999;\n",
       "  /* unfitted */\n",
       "  background: var(--sklearn-color-unfitted-level-0);\n",
       "  border: .5pt solid var(--sklearn-color-unfitted-level-3);\n",
       "}\n",
       "\n",
       ".sk-estimator-doc-link.fitted span {\n",
       "  /* fitted */\n",
       "  background: var(--sklearn-color-fitted-level-0);\n",
       "  border: var(--sklearn-color-fitted-level-3);\n",
       "}\n",
       "\n",
       ".sk-estimator-doc-link:hover span {\n",
       "  display: block;\n",
       "}\n",
       "\n",
       "/* \"?\"-specific style due to the `<a>` HTML tag */\n",
       "\n",
       "#sk-container-id-1 a.estimator_doc_link {\n",
       "  float: right;\n",
       "  font-size: 1rem;\n",
       "  line-height: 1em;\n",
       "  font-family: monospace;\n",
       "  background-color: var(--sklearn-color-background);\n",
       "  border-radius: 1rem;\n",
       "  height: 1rem;\n",
       "  width: 1rem;\n",
       "  text-decoration: none;\n",
       "  /* unfitted */\n",
       "  color: var(--sklearn-color-unfitted-level-1);\n",
       "  border: var(--sklearn-color-unfitted-level-1) 1pt solid;\n",
       "}\n",
       "\n",
       "#sk-container-id-1 a.estimator_doc_link.fitted {\n",
       "  /* fitted */\n",
       "  border: var(--sklearn-color-fitted-level-1) 1pt solid;\n",
       "  color: var(--sklearn-color-fitted-level-1);\n",
       "}\n",
       "\n",
       "/* On hover */\n",
       "#sk-container-id-1 a.estimator_doc_link:hover {\n",
       "  /* unfitted */\n",
       "  background-color: var(--sklearn-color-unfitted-level-3);\n",
       "  color: var(--sklearn-color-background);\n",
       "  text-decoration: none;\n",
       "}\n",
       "\n",
       "#sk-container-id-1 a.estimator_doc_link.fitted:hover {\n",
       "  /* fitted */\n",
       "  background-color: var(--sklearn-color-fitted-level-3);\n",
       "}\n",
       "</style><div id=\"sk-container-id-1\" class=\"sk-top-container\"><div class=\"sk-text-repr-fallback\"><pre>RandomForestRegressor(n_jobs=-1, random_state=42)</pre><b>In a Jupyter environment, please rerun this cell to show the HTML representation or trust the notebook. <br />On GitHub, the HTML representation is unable to render, please try loading this page with nbviewer.org.</b></div><div class=\"sk-container\" hidden><div class=\"sk-item\"><div class=\"sk-estimator fitted sk-toggleable\"><input class=\"sk-toggleable__control sk-hidden--visually\" id=\"sk-estimator-id-1\" type=\"checkbox\" checked><label for=\"sk-estimator-id-1\" class=\"sk-toggleable__label fitted sk-toggleable__label-arrow fitted\">&nbsp;&nbsp;RandomForestRegressor<a class=\"sk-estimator-doc-link fitted\" rel=\"noreferrer\" target=\"_blank\" href=\"https://scikit-learn.org/1.5/modules/generated/sklearn.ensemble.RandomForestRegressor.html\">?<span>Documentation for RandomForestRegressor</span></a><span class=\"sk-estimator-doc-link fitted\">i<span>Fitted</span></span></label><div class=\"sk-toggleable__content fitted\"><pre>RandomForestRegressor(n_jobs=-1, random_state=42)</pre></div> </div></div></div></div>"
      ],
      "text/plain": [
       "RandomForestRegressor(n_jobs=-1, random_state=42)"
      ]
     },
     "execution_count": 30,
     "metadata": {},
     "output_type": "execute_result"
    }
   ],
   "source": [
    "rf_reg.fit(X_train, y_train)"
   ]
  },
  {
   "cell_type": "code",
   "execution_count": 50,
   "metadata": {},
   "outputs": [],
   "source": [
    "rf_pred = rf_reg.predict(X_val)"
   ]
  },
  {
   "cell_type": "code",
   "execution_count": 56,
   "metadata": {},
   "outputs": [
    {
     "data": {
      "text/plain": [
       "array([[8.33060000e+00, 2.53988963e-01, 9.00000000e+00, ...,\n",
       "        0.00000000e+00, 0.00000000e+00, 0.00000000e+00],\n",
       "       [6.27740000e+00, 3.28990769e-01, 1.09500000e+01, ...,\n",
       "        3.20000000e-01, 3.70000000e-01, 6.90000000e-01],\n",
       "       [7.66830000e+00, 4.40247705e-02, 5.71000000e+00, ...,\n",
       "        0.00000000e+00, 2.00000000e-02, 2.00000000e-02],\n",
       "       ...,\n",
       "       [8.66390833e+00, 1.45866397e-01, 7.05000000e+00, ...,\n",
       "        0.00000000e+00, 0.00000000e+00, 0.00000000e+00],\n",
       "       [6.80380000e+00, 1.34256226e-01, 4.44000000e+00, ...,\n",
       "        0.00000000e+00, 1.00000000e-02, 1.00000000e-02],\n",
       "       [5.90436333e+00, 3.57078431e-01, 5.23000000e+00, ...,\n",
       "        9.80000000e-01, 1.00000000e-02, 9.90000000e-01]])"
      ]
     },
     "execution_count": 56,
     "metadata": {},
     "output_type": "execute_result"
    }
   ],
   "source": [
    "rf_pred"
   ]
  },
  {
   "cell_type": "code",
   "execution_count": 57,
   "metadata": {},
   "outputs": [
    {
     "data": {
      "text/plain": [
       "(471, 21)"
      ]
     },
     "execution_count": 57,
     "metadata": {},
     "output_type": "execute_result"
    }
   ],
   "source": [
    "rf_pred.shape"
   ]
  },
  {
   "cell_type": "code",
   "execution_count": 58,
   "metadata": {},
   "outputs": [
    {
     "data": {
      "text/plain": [
       "(471, 21)"
      ]
     },
     "execution_count": 58,
     "metadata": {},
     "output_type": "execute_result"
    }
   ],
   "source": [
    "y_val.shape"
   ]
  },
  {
   "cell_type": "code",
   "execution_count": 65,
   "metadata": {},
   "outputs": [
    {
     "data": {
      "text/plain": [
       "array([ 8.73,  6.22,  8.11,  6.84,  5.22,  5.51,  6.72,  7.  ,  6.05,\n",
       "        9.  ,  7.19,  5.95,  9.23,  7.  ,  6.07,  7.51,  5.38,  8.15,\n",
       "        5.8 ,  7.93,  5.47,  6.46,  5.23,  7.94,  7.15,  7.77,  4.96,\n",
       "        5.15,  7.05,  5.64,  7.17,  6.85,  7.3 ,  6.99,  5.57,  5.98,\n",
       "        4.32,  6.48,  9.52,  7.57,  6.71,  7.01,  7.75,  7.92,  8.3 ,\n",
       "        5.87,  5.11,  6.96,  8.5 ,  7.24,  9.38,  7.77,  7.08,  4.89,\n",
       "        7.29,  7.96,  8.08,  6.71,  7.75,  7.3 ,  7.92,  8.89,  5.11,\n",
       "        6.38,  6.96,  7.7 ,  7.94,  5.17,  6.4 ,  5.66,  5.54,  6.07,\n",
       "        7.58,  6.22,  6.05,  6.88,  8.24,  6.89,  8.85,  8.68,  4.89,\n",
       "        6.72,  5.5 ,  7.8 ,  5.52,  7.11,  9.08,  7.62,  7.11,  5.39,\n",
       "        5.6 ,  5.19,  8.1 ,  6.76,  5.39,  5.7 ,  5.43,  7.55,  7.66,\n",
       "        6.38,  7.23,  6.1 ,  8.46,  6.03,  9.15,  5.99, 10.09,  7.03,\n",
       "        6.15,  9.22,  7.85,  7.77,  6.45,  6.52,  7.  ,  4.99,  7.23,\n",
       "        7.58,  7.38,  7.26,  7.24,  8.26,  6.01,  7.85,  5.34,  8.68,\n",
       "        7.26,  8.3 ,  6.88,  7.05,  7.53,  8.64,  6.15,  7.4 ,  8.22,\n",
       "        6.94,  6.52,  5.48,  7.3 ,  6.03,  6.88,  5.8 ,  5.5 ,  6.98,\n",
       "        8.11,  7.1 ,  8.82,  7.96,  7.92,  6.2 ,  8.06,  6.62,  7.66,\n",
       "        5.39,  7.64,  6.6 ,  6.37,  5.92,  5.29,  7.32,  5.98,  5.41,\n",
       "        7.7 ,  8.34,  7.24,  7.06,  7.22,  7.92,  7.05,  8.52,  7.87,\n",
       "        5.77,  8.24,  8.13,  6.4 ,  5.28,  5.48,  6.08,  5.57,  6.24,\n",
       "        6.38,  6.96,  7.89,  6.63,  5.46,  6.89,  7.3 ,  7.66,  6.91,\n",
       "        6.75,  6.43,  7.66,  8.18,  6.34,  6.34,  9.22,  6.94,  5.83,\n",
       "        5.96,  6.57,  5.37,  7.57,  8.52,  7.8 ,  4.52,  6.91,  4.95,\n",
       "        6.54,  7.7 ,  6.88,  7.07,  4.48,  7.58,  5.82,  5.31,  9.22,\n",
       "        8.52,  5.04,  5.17,  8.77,  4.6 ,  4.43,  9.52,  5.42,  5.95,\n",
       "        7.11,  5.92,  4.63,  9.  ,  5.16,  6.48,  7.69,  5.66,  6.79,\n",
       "        7.81,  8.27,  5.02,  7.77,  5.48,  7.65,  5.71,  7.3 ,  6.05,\n",
       "        4.8 ,  6.96,  6.75,  5.99,  6.37,  6.39,  7.38,  5.23,  5.41,\n",
       "        7.01,  7.57,  8.13,  6.17,  8.6 ,  5.53,  7.16,  8.36,  9.51,\n",
       "        7.11,  6.81,  7.62,  7.88,  5.34,  7.  ,  9.  ,  6.48,  7.64,\n",
       "        7.14,  7.5 ,  6.61,  8.74,  4.47,  8.27,  7.  ,  5.79,  5.19,\n",
       "        8.18,  7.8 ,  5.98,  6.75,  6.51,  4.92,  6.82,  5.78,  5.21,\n",
       "        5.44,  6.56,  7.88,  7.36,  8.3 ,  9.15,  6.72,  6.72,  9.  ,\n",
       "        6.4 ,  7.06,  6.87,  8.74,  7.35,  5.88,  5.88,  5.  ,  8.  ,\n",
       "        6.51,  5.66,  6.84,  7.  ,  5.11,  7.35,  7.55,  6.9 ,  7.05,\n",
       "        5.51,  5.46,  6.04,  8.  ,  6.18,  8.3 ,  6.4 ,  8.19,  6.92,\n",
       "        5.98,  7.17,  9.15,  5.46,  5.95,  7.23,  5.24,  6.31,  7.51,\n",
       "        7.46,  6.17,  6.84,  7.24,  5.25,  6.86,  7.06,  6.36,  7.19,\n",
       "        6.85,  5.79,  7.12,  7.72,  5.59,  7.43,  8.69,  8.8 ,  5.6 ,\n",
       "        6.33,  8.4 ,  5.22,  6.51,  5.66,  4.31,  6.35,  6.7 ,  8.44,\n",
       "        6.64,  6.52,  8.05,  7.73,  6.28,  4.85,  7.91,  6.55,  7.06,\n",
       "        5.91,  7.73,  8.52,  7.08,  8.7 ,  6.24,  7.4 ,  5.31,  6.81,\n",
       "        7.55,  8.52,  5.11,  8.48,  9.  ,  6.  ,  5.43,  4.89,  6.43,\n",
       "        6.79,  6.54,  6.72,  5.52,  7.  ,  8.42,  7.85,  6.2 ,  6.49,\n",
       "        8.02,  5.43,  6.62,  7.56,  6.97,  5.23,  6.  ,  7.46,  8.37,\n",
       "        5.7 ,  5.79,  8.32,  7.27,  6.85,  6.37,  5.99,  5.86,  5.68,\n",
       "        7.8 ,  8.28,  6.35,  6.59,  5.75,  8.68,  6.39,  7.19,  7.25,\n",
       "        8.8 ,  8.25,  5.32,  7.19,  5.96,  8.13,  7.34,  6.99,  8.  ,\n",
       "        5.24,  7.16,  7.68,  7.95,  5.6 ,  9.  ,  6.05,  6.99,  5.7 ,\n",
       "        6.32,  5.45,  7.03,  5.26,  8.8 ,  4.8 ,  7.35,  8.  ,  6.24,\n",
       "        6.75,  7.72,  6.3 ,  8.52,  5.77,  7.4 ,  5.53,  6.34,  5.88,\n",
       "        7.76,  6.19,  7.98,  7.83,  4.6 ,  7.35,  5.42,  8.22,  6.83,\n",
       "        9.4 ,  6.74,  5.62])"
      ]
     },
     "execution_count": 65,
     "metadata": {},
     "output_type": "execute_result"
    }
   ],
   "source": [
    "y_val.to_numpy()[:, 0]"
   ]
  },
  {
   "cell_type": "code",
   "execution_count": 64,
   "metadata": {},
   "outputs": [
    {
     "data": {
      "text/plain": [
       "array([8.3306    , 6.2774    , 7.6683    , 6.6881    , 6.61632   ,\n",
       "       5.2134    , 6.98029   , 8.807     , 6.69020333, 8.6153    ,\n",
       "       7.1007    , 6.34685333, 7.63074   , 7.562725  , 5.86645   ,\n",
       "       8.06056667, 5.85516667, 7.48466667, 5.959     , 7.98995   ,\n",
       "       5.46945   , 5.7908    , 5.6994    , 8.48166667, 7.43377667,\n",
       "       7.26246222, 5.7527    , 6.28121667, 7.38146   , 6.52009167,\n",
       "       6.21653667, 7.05770833, 6.82088333, 6.63814   , 5.95285   ,\n",
       "       6.79142667, 6.58950286, 6.56561452, 7.63591667, 7.05986   ,\n",
       "       7.0862    , 6.50073333, 7.41386833, 6.39360857, 7.95492333,\n",
       "       5.3715    , 5.7519    , 6.16448333, 8.1744    , 7.61958333,\n",
       "       8.244     , 7.6953    , 7.02633333, 6.5907    , 6.32156667,\n",
       "       6.9159    , 7.5149    , 6.682     , 6.6019    , 7.5617    ,\n",
       "       7.15455   , 7.70766667, 6.86358667, 6.57671667, 6.46833333,\n",
       "       6.9015    , 7.66543333, 6.07103333, 7.78746583, 5.3839    ,\n",
       "       5.93974167, 5.79586833, 7.2791    , 6.5756    , 6.7798    ,\n",
       "       6.1758    , 9.05156   , 6.98945   , 7.60381667, 8.63672329,\n",
       "       5.62773   , 6.40228   , 5.717     , 7.586875  , 5.8296    ,\n",
       "       7.07723333, 7.51879333, 7.10451667, 7.4523    , 6.6484    ,\n",
       "       6.64142833, 5.2089    , 6.1326    , 8.01391167, 5.6193    ,\n",
       "       6.2433    , 6.56561452, 7.27995   , 7.57796833, 6.54547667,\n",
       "       7.3561    , 5.753575  , 8.1133    , 6.9129    , 6.9455    ,\n",
       "       5.9386    , 8.68057833, 5.78878333, 6.2032    , 8.4612    ,\n",
       "       8.19071508, 7.32006   , 6.9267    , 7.3833    , 6.8985    ,\n",
       "       5.12797143, 7.54194611, 8.1222    , 8.65219619, 6.9818    ,\n",
       "       6.3925    , 7.67161833, 5.9796    , 7.58142333, 6.18154667,\n",
       "       8.31468833, 6.857495  , 7.84377222, 6.5485    , 6.807     ,\n",
       "       7.7219    , 8.66373996, 7.309     , 6.80815667, 7.87237667,\n",
       "       7.4021    , 6.5987    , 6.62405333, 7.84377222, 6.38685   ,\n",
       "       7.1481    , 6.60973333, 6.12083333, 6.70905   , 6.81814167,\n",
       "       8.470075  , 6.7764    , 7.8385    , 7.70475   , 5.63588333,\n",
       "       8.11835   , 6.08133333, 7.31727476, 5.2595    , 7.32596667,\n",
       "       6.86595   , 6.1225381 , 6.8548    , 7.26805   , 7.210575  ,\n",
       "       7.29305   , 5.8970781 , 6.82722667, 7.62074833, 7.2537    ,\n",
       "       7.2339    , 7.44705333, 7.51879333, 7.6316    , 7.03075   ,\n",
       "       7.70566679, 5.68743476, 8.74486667, 7.90566286, 7.6218    ,\n",
       "       5.78576667, 6.4289    , 6.68450417, 6.77958333, 5.63443   ,\n",
       "       6.37146667, 6.95323333, 5.49045   , 7.58340905, 5.63803333,\n",
       "       6.91682   , 7.1506    , 8.50978333, 7.3001    , 6.8772669 ,\n",
       "       6.68450417, 7.23      , 7.8509    , 6.782245  , 6.99841667,\n",
       "       8.89433524, 7.33813667, 6.1825    , 6.60266667, 6.8246    ,\n",
       "       5.87465   , 7.066     , 7.71716167, 7.48641214, 5.3157    ,\n",
       "       8.65219619, 5.85265   , 6.33850833, 8.07616667, 6.26206667,\n",
       "       8.51224619, 6.34682   , 8.28513333, 6.32789667, 5.7603    ,\n",
       "       8.89433524, 7.4096    , 6.08423333, 6.6484    , 8.13021667,\n",
       "       6.86826667, 6.0232    , 8.83236667, 5.3305    , 6.597045  ,\n",
       "       8.79775   , 6.28948   , 5.62853333, 7.3162    , 6.21608333,\n",
       "       7.01982   , 8.25815   , 6.0467    , 6.61042667, 7.73537651,\n",
       "       7.8145781 , 5.975     , 7.6781    , 5.8121    , 7.13921667,\n",
       "       6.29885   , 6.71171452, 6.6061    , 6.08227143, 7.391     ,\n",
       "       6.87348167, 5.6197    , 6.66767333, 6.33512667, 7.6428    ,\n",
       "       6.5179    , 5.46103   , 6.78392333, 6.857495  , 7.40398333,\n",
       "       6.53713333, 6.737635  , 7.4899    , 7.33      , 8.79246786,\n",
       "       8.65219619, 7.26883702, 6.56235   , 6.98835071, 7.67161833,\n",
       "       6.5512    , 6.59212333, 7.18293333, 6.00978667, 7.68245   ,\n",
       "       8.43720667, 7.4601081 , 7.403     , 7.78399333, 5.58336667,\n",
       "       7.96156667, 7.6292    , 5.49498667, 5.36870833, 8.47573   ,\n",
       "       7.285     , 6.6742875 , 7.08295333, 6.33512667, 5.3122    ,\n",
       "       7.12789667, 6.15647   , 6.4019    , 6.63585   , 6.78469333,\n",
       "       7.8108    , 7.54410833, 6.68769833, 7.67943333, 7.032875  ,\n",
       "       7.85481667, 9.1092    , 6.9636    , 6.625265  , 8.32604   ,\n",
       "       7.9381675 , 7.974325  , 6.4406    , 6.4384    , 5.60669   ,\n",
       "       7.1564    , 5.976075  , 6.55662667, 7.2915    , 7.54203333,\n",
       "       5.1973    , 6.11646667, 7.8054    , 6.1314    , 6.28838429,\n",
       "       6.07761833, 6.37955833, 6.2451    , 7.33088944, 6.46684333,\n",
       "       6.9538    , 6.6377    , 7.43575   , 7.93884095, 8.32400794,\n",
       "       7.106125  , 8.5196    , 5.7638219 , 6.5688    , 7.5568    ,\n",
       "       5.95822   , 6.0052    , 6.81756667, 7.6112    , 6.203     ,\n",
       "       6.75776667, 6.83063333, 6.69150167, 6.5298    , 7.93884095,\n",
       "       6.1534    , 7.2321    , 6.5943    , 5.99695   , 6.606825  ,\n",
       "       7.4228    , 5.7869    , 7.2882    , 8.2738    , 8.08677758,\n",
       "       5.7865    , 6.620375  , 7.05957143, 7.3606    , 6.92331   ,\n",
       "       5.65903333, 5.17616667, 7.051     , 6.82587333, 7.28177667,\n",
       "       6.55731333, 6.0146    , 7.4321    , 7.8656    , 6.93348   ,\n",
       "       5.63211667, 7.66705   , 7.2616    , 6.398     , 6.803     ,\n",
       "       8.23365357, 7.8054    , 6.5555    , 8.39605667, 6.56035   ,\n",
       "       7.8253    , 5.44847   , 7.02687619, 6.82828   , 6.99197143,\n",
       "       5.84353833, 8.65295857, 8.69585667, 7.08636952, 5.7852    ,\n",
       "       5.01033333, 6.63152   , 6.2378    , 7.34339   , 6.53582595,\n",
       "       5.49743667, 7.0159    , 7.4936    , 8.0142    , 6.3849    ,\n",
       "       6.0078    , 7.10694167, 5.55433905, 5.45756667, 7.39105778,\n",
       "       6.555     , 6.01883333, 7.047     , 7.27754286, 8.0613    ,\n",
       "       7.3143    , 7.46156   , 7.9832    , 7.20444333, 7.7869    ,\n",
       "       6.92929167, 5.73661667, 6.75455833, 7.2819    , 8.1046    ,\n",
       "       8.49576667, 6.5151    , 6.9783    , 6.01278   , 7.9966    ,\n",
       "       6.68220476, 7.33585   , 6.2092    , 8.14208333, 7.60381667,\n",
       "       5.6887    , 7.1135    , 7.21033333, 7.8113    , 8.37463333,\n",
       "       6.56993333, 8.47735   , 5.92556   , 6.5766    , 7.3162    ,\n",
       "       6.48244667, 5.5267    , 8.83919   , 5.79588333, 6.62496667,\n",
       "       5.58240833, 6.5126    , 5.9893    , 6.52175   , 5.770875  ,\n",
       "       8.70276167, 5.1458    , 7.53707202, 8.1013    , 6.7947    ,\n",
       "       7.57796833, 6.72069952, 6.65601667, 8.37222   , 4.7101    ,\n",
       "       7.92019   , 5.67696667, 6.74636333, 7.01885167, 8.3071    ,\n",
       "       6.50855833, 7.4337    , 7.1646    , 6.596615  , 7.94730143,\n",
       "       5.07283333, 8.4934    , 6.2833    , 8.66390833, 6.8038    ,\n",
       "       5.90436333])"
      ]
     },
     "execution_count": 64,
     "metadata": {},
     "output_type": "execute_result"
    }
   ],
   "source": [
    "rf_pred[:, 0]"
   ]
  },
  {
   "cell_type": "code",
   "execution_count": 80,
   "metadata": {},
   "outputs": [
    {
     "name": "stdout",
     "output_type": "stream",
     "text": [
      "pKi 2.3995500000000005\n",
      "fsp3 0.3395646402960645\n",
      "n_lipinski_hba 3.241666666666667\n",
      "n_lipinski_hbd 1.85\n",
      "n_rings 1.42\n",
      "n_hetero_atoms 3.991666666666667\n",
      "n_heavy_atoms 9.510000000000002\n",
      "n_rotatable_bonds 6.140000000000001\n",
      "tpsa 34.25870000000006\n",
      "qed 0.29053072726328266\n",
      "clogp 2.7537402000000046\n",
      "sas 1.7131127772628165\n",
      "n_aliphatic_carbocycles 1.3900000000000001\n",
      "n_aliphatic_heterocyles 1.98\n",
      "n_aliphatic_rings 2.05\n",
      "n_aromatic_carbocycles 1.3156666666666665\n",
      "n_aromatic_heterocyles 1.645\n",
      "n_aromatic_rings 1.6099999999999999\n",
      "n_saturated_carbocycles 1.4100000000000001\n",
      "n_saturated_heterocyles 1.98\n",
      "n_saturated_rings 1.38\n"
     ]
    }
   ],
   "source": [
    "procentual = []\n",
    "for i in range(y_train.shape[1]):\n",
    "    # print(y_train.iloc[:, i].name)\n",
    "    y_true = y_val.iloc[:, i].to_numpy()\n",
    "    proc = (y_true - rf_pred[:, i]) \n",
    "    print(y_train.iloc[:, i].name, proc.max())"
   ]
  },
  {
   "cell_type": "code",
   "execution_count": 31,
   "metadata": {},
   "outputs": [],
   "source": [
    "svm_reg = SVR(kernel='rbf', C=1)"
   ]
  },
  {
   "cell_type": "code",
   "execution_count": 32,
   "metadata": {},
   "outputs": [],
   "source": [
    "res_svm_cross = []"
   ]
  },
  {
   "cell_type": "code",
   "execution_count": 33,
   "metadata": {},
   "outputs": [
    {
     "data": {
      "text/plain": [
       "21"
      ]
     },
     "execution_count": 33,
     "metadata": {},
     "output_type": "execute_result"
    }
   ],
   "source": [
    "y_train.shape[1]"
   ]
  },
  {
   "cell_type": "code",
   "execution_count": 34,
   "metadata": {},
   "outputs": [
    {
     "name": "stdout",
     "output_type": "stream",
     "text": [
      "(1883,) pKi\n",
      "(1883,) fsp3\n",
      "(1883,) n_lipinski_hba\n",
      "(1883,) n_lipinski_hbd\n",
      "(1883,) n_rings\n",
      "(1883,) n_hetero_atoms\n",
      "(1883,) n_heavy_atoms\n",
      "(1883,) n_rotatable_bonds\n",
      "(1883,) tpsa\n",
      "(1883,) qed\n",
      "(1883,) clogp\n",
      "(1883,) sas\n",
      "(1883,) n_aliphatic_carbocycles\n",
      "(1883,) n_aliphatic_heterocyles\n",
      "(1883,) n_aliphatic_rings\n",
      "(1883,) n_aromatic_carbocycles\n",
      "(1883,) n_aromatic_heterocyles\n",
      "(1883,) n_aromatic_rings\n",
      "(1883,) n_saturated_carbocycles\n",
      "(1883,) n_saturated_heterocyles\n",
      "(1883,) n_saturated_rings\n"
     ]
    }
   ],
   "source": [
    "for i in range(y_train.shape[1]):\n",
    "    b = y_train.iloc[:, i]\n",
    "    print(b.shape, b.name)"
   ]
  },
  {
   "cell_type": "code",
   "execution_count": 35,
   "metadata": {},
   "outputs": [],
   "source": [
    "res_svm_cross = []\n",
    "for i in range(y_train.shape[1]):\n",
    "    y_svm = y_train.iloc[:, i]\n",
    "    svm_cross = -cross_val_score(svm_reg, X_train, y_svm, cv=5, n_jobs=-1,scoring='neg_root_mean_squared_error')\n",
    "    res_svm_cross.append(svm_cross.mean())\n"
   ]
  },
  {
   "cell_type": "code",
   "execution_count": 36,
   "metadata": {},
   "outputs": [
    {
     "data": {
      "text/plain": [
       "[np.float64(0.7934635648923551),\n",
       " np.float64(0.06438874327232462),\n",
       " np.float64(0.5045715443367023),\n",
       " np.float64(0.22906066252215035),\n",
       " np.float64(0.3725972898725145),\n",
       " np.float64(0.5890841628037069),\n",
       " np.float64(2.597579276696109),\n",
       " np.float64(0.7808628040182175),\n",
       " np.float64(13.543161642880563),\n",
       " np.float64(0.07813145917289488),\n",
       " np.float64(0.6038289372157575),\n",
       " np.float64(0.18616188341298645),\n",
       " np.float64(0.2479759162874707),\n",
       " np.float64(0.20356142840450073),\n",
       " np.float64(0.2810086240494201),\n",
       " np.float64(0.3759420972925439),\n",
       " np.float64(0.3461131160525712),\n",
       " np.float64(0.36434226167816663),\n",
       " np.float64(0.2292262976665871),\n",
       " np.float64(0.15452926349151624),\n",
       " np.float64(0.2296929512658054)]"
      ]
     },
     "execution_count": 36,
     "metadata": {},
     "output_type": "execute_result"
    }
   ],
   "source": [
    "res_svm_cross"
   ]
  },
  {
   "cell_type": "code",
   "execution_count": 37,
   "metadata": {},
   "outputs": [
    {
     "data": {
      "text/plain": [
       "pKi                         0.793464\n",
       "fsp3                        0.064389\n",
       "n_lipinski_hba              0.504572\n",
       "n_lipinski_hbd              0.229061\n",
       "n_rings                     0.372597\n",
       "n_hetero_atoms              0.589084\n",
       "n_heavy_atoms               2.597579\n",
       "n_rotatable_bonds           0.780863\n",
       "tpsa                       13.543162\n",
       "qed                         0.078131\n",
       "clogp                       0.603829\n",
       "sas                         0.186162\n",
       "n_aliphatic_carbocycles     0.247976\n",
       "n_aliphatic_heterocyles     0.203561\n",
       "n_aliphatic_rings           0.281009\n",
       "n_aromatic_carbocycles      0.375942\n",
       "n_aromatic_heterocyles      0.346113\n",
       "n_aromatic_rings            0.364342\n",
       "n_saturated_carbocycles     0.229226\n",
       "n_saturated_heterocyles     0.154529\n",
       "n_saturated_rings           0.229693\n",
       "Name: svm, dtype: float64"
      ]
     },
     "execution_count": 37,
     "metadata": {},
     "output_type": "execute_result"
    }
   ],
   "source": [
    "svm_cross_df = pd.Series(res_svm_cross, index=col_y, name='svm')\n",
    "svm_cross_df"
   ]
  },
  {
   "cell_type": "code",
   "execution_count": 38,
   "metadata": {},
   "outputs": [
    {
     "data": {
      "text/html": [
       "<div>\n",
       "<style scoped>\n",
       "    .dataframe tbody tr th:only-of-type {\n",
       "        vertical-align: middle;\n",
       "    }\n",
       "\n",
       "    .dataframe tbody tr th {\n",
       "        vertical-align: top;\n",
       "    }\n",
       "\n",
       "    .dataframe thead th {\n",
       "        text-align: right;\n",
       "    }\n",
       "</style>\n",
       "<table border=\"1\" class=\"dataframe\">\n",
       "  <thead>\n",
       "    <tr style=\"text-align: right;\">\n",
       "      <th></th>\n",
       "      <th>descriptors</th>\n",
       "      <th>random_forest</th>\n",
       "      <th>svm</th>\n",
       "    </tr>\n",
       "  </thead>\n",
       "  <tbody>\n",
       "    <tr>\n",
       "      <th>0</th>\n",
       "      <td>pKi</td>\n",
       "      <td>0.739326</td>\n",
       "      <td>0.793464</td>\n",
       "    </tr>\n",
       "    <tr>\n",
       "      <th>1</th>\n",
       "      <td>fsp3</td>\n",
       "      <td>0.044040</td>\n",
       "      <td>0.064389</td>\n",
       "    </tr>\n",
       "    <tr>\n",
       "      <th>2</th>\n",
       "      <td>n_lipinski_hba</td>\n",
       "      <td>0.552972</td>\n",
       "      <td>0.504572</td>\n",
       "    </tr>\n",
       "    <tr>\n",
       "      <th>3</th>\n",
       "      <td>n_lipinski_hbd</td>\n",
       "      <td>0.200272</td>\n",
       "      <td>0.229061</td>\n",
       "    </tr>\n",
       "    <tr>\n",
       "      <th>4</th>\n",
       "      <td>n_rings</td>\n",
       "      <td>0.373395</td>\n",
       "      <td>0.372597</td>\n",
       "    </tr>\n",
       "    <tr>\n",
       "      <th>5</th>\n",
       "      <td>n_hetero_atoms</td>\n",
       "      <td>0.659574</td>\n",
       "      <td>0.589084</td>\n",
       "    </tr>\n",
       "    <tr>\n",
       "      <th>6</th>\n",
       "      <td>n_heavy_atoms</td>\n",
       "      <td>2.215775</td>\n",
       "      <td>2.597579</td>\n",
       "    </tr>\n",
       "    <tr>\n",
       "      <th>7</th>\n",
       "      <td>n_rotatable_bonds</td>\n",
       "      <td>0.728725</td>\n",
       "      <td>0.780863</td>\n",
       "    </tr>\n",
       "    <tr>\n",
       "      <th>8</th>\n",
       "      <td>tpsa</td>\n",
       "      <td>7.191903</td>\n",
       "      <td>13.543162</td>\n",
       "    </tr>\n",
       "    <tr>\n",
       "      <th>9</th>\n",
       "      <td>qed</td>\n",
       "      <td>0.067386</td>\n",
       "      <td>0.078131</td>\n",
       "    </tr>\n",
       "    <tr>\n",
       "      <th>10</th>\n",
       "      <td>clogp</td>\n",
       "      <td>0.629227</td>\n",
       "      <td>0.603829</td>\n",
       "    </tr>\n",
       "    <tr>\n",
       "      <th>11</th>\n",
       "      <td>sas</td>\n",
       "      <td>0.198629</td>\n",
       "      <td>0.186162</td>\n",
       "    </tr>\n",
       "    <tr>\n",
       "      <th>12</th>\n",
       "      <td>n_aliphatic_carbocycles</td>\n",
       "      <td>0.177609</td>\n",
       "      <td>0.247976</td>\n",
       "    </tr>\n",
       "    <tr>\n",
       "      <th>13</th>\n",
       "      <td>n_aliphatic_heterocyles</td>\n",
       "      <td>0.170574</td>\n",
       "      <td>0.203561</td>\n",
       "    </tr>\n",
       "    <tr>\n",
       "      <th>14</th>\n",
       "      <td>n_aliphatic_rings</td>\n",
       "      <td>0.246688</td>\n",
       "      <td>0.281009</td>\n",
       "    </tr>\n",
       "    <tr>\n",
       "      <th>15</th>\n",
       "      <td>n_aromatic_carbocycles</td>\n",
       "      <td>0.371633</td>\n",
       "      <td>0.375942</td>\n",
       "    </tr>\n",
       "    <tr>\n",
       "      <th>16</th>\n",
       "      <td>n_aromatic_heterocyles</td>\n",
       "      <td>0.328145</td>\n",
       "      <td>0.346113</td>\n",
       "    </tr>\n",
       "    <tr>\n",
       "      <th>17</th>\n",
       "      <td>n_aromatic_rings</td>\n",
       "      <td>0.374655</td>\n",
       "      <td>0.364342</td>\n",
       "    </tr>\n",
       "    <tr>\n",
       "      <th>18</th>\n",
       "      <td>n_saturated_carbocycles</td>\n",
       "      <td>0.151791</td>\n",
       "      <td>0.229226</td>\n",
       "    </tr>\n",
       "    <tr>\n",
       "      <th>19</th>\n",
       "      <td>n_saturated_heterocyles</td>\n",
       "      <td>0.136890</td>\n",
       "      <td>0.154529</td>\n",
       "    </tr>\n",
       "    <tr>\n",
       "      <th>20</th>\n",
       "      <td>n_saturated_rings</td>\n",
       "      <td>0.203361</td>\n",
       "      <td>0.229693</td>\n",
       "    </tr>\n",
       "  </tbody>\n",
       "</table>\n",
       "</div>"
      ],
      "text/plain": [
       "                descriptors  random_forest        svm\n",
       "0                       pKi       0.739326   0.793464\n",
       "1                      fsp3       0.044040   0.064389\n",
       "2            n_lipinski_hba       0.552972   0.504572\n",
       "3            n_lipinski_hbd       0.200272   0.229061\n",
       "4                   n_rings       0.373395   0.372597\n",
       "5            n_hetero_atoms       0.659574   0.589084\n",
       "6             n_heavy_atoms       2.215775   2.597579\n",
       "7         n_rotatable_bonds       0.728725   0.780863\n",
       "8                      tpsa       7.191903  13.543162\n",
       "9                       qed       0.067386   0.078131\n",
       "10                    clogp       0.629227   0.603829\n",
       "11                      sas       0.198629   0.186162\n",
       "12  n_aliphatic_carbocycles       0.177609   0.247976\n",
       "13  n_aliphatic_heterocyles       0.170574   0.203561\n",
       "14        n_aliphatic_rings       0.246688   0.281009\n",
       "15   n_aromatic_carbocycles       0.371633   0.375942\n",
       "16   n_aromatic_heterocyles       0.328145   0.346113\n",
       "17         n_aromatic_rings       0.374655   0.364342\n",
       "18  n_saturated_carbocycles       0.151791   0.229226\n",
       "19  n_saturated_heterocyles       0.136890   0.154529\n",
       "20        n_saturated_rings       0.203361   0.229693"
      ]
     },
     "execution_count": 38,
     "metadata": {},
     "output_type": "execute_result"
    }
   ],
   "source": [
    "res_df = pd.merge(rf_cros_df, svm_cross_df, left_index=True, right_index=True)\n",
    "res_df.reset_index(inplace=True, names='descriptors')\n",
    "res_df"
   ]
  },
  {
   "cell_type": "code",
   "execution_count": 39,
   "metadata": {},
   "outputs": [],
   "source": [
    "cwd = Path.cwd()\n",
    "work_dir = cwd / 'regressors'\n",
    "work_dir.mkdir(exist_ok=True)\n",
    "files = []\n",
    "for file in work_dir.iterdir():\n",
    "    files.append(file)\n",
    "for file in files:\n",
    "    file.unlink()"
   ]
  },
  {
   "cell_type": "code",
   "execution_count": 40,
   "metadata": {},
   "outputs": [],
   "source": [
    "regressors_pieplines = dict()"
   ]
  },
  {
   "cell_type": "code",
   "execution_count": 41,
   "metadata": {},
   "outputs": [
    {
     "data": {
      "application/vnd.jupyter.widget-view+json": {
       "model_id": "c84db79e3c5b44ee93984c71355ac58a",
       "version_major": 2,
       "version_minor": 0
      },
      "text/plain": [
       "Optimization Progress:   0%|          | 0/300 [00:00<?, ?pipeline/s]"
      ]
     },
     "metadata": {},
     "output_type": "display_data"
    },
    {
     "name": "stdout",
     "output_type": "stream",
     "text": [
      "\n",
      "Generation 1 - Current best internal CV score: -0.5340500650185827\n",
      "\n",
      "Generation 2 - Current best internal CV score: -0.5340500650185827\n",
      "\n",
      "Generation 3 - Current best internal CV score: -0.5340500650185827\n",
      "\n",
      "Generation 4 - Current best internal CV score: -0.5340500650185827\n",
      "\n",
      "Generation 5 - Current best internal CV score: -0.5340500650185827\n",
      "\n",
      "Best pipeline: ExtraTreesRegressor(input_matrix, bootstrap=False, max_features=0.2, min_samples_leaf=1, min_samples_split=7, n_estimators=100)\n",
      "pKi: -0.49656080147884496\n"
     ]
    },
    {
     "data": {
      "application/vnd.jupyter.widget-view+json": {
       "model_id": "e36b69b96b0d4d8ab6825c916acd5ada",
       "version_major": 2,
       "version_minor": 0
      },
      "text/plain": [
       "Optimization Progress:   0%|          | 0/300 [00:00<?, ?pipeline/s]"
      ]
     },
     "metadata": {},
     "output_type": "display_data"
    },
    {
     "name": "stdout",
     "output_type": "stream",
     "text": [
      "\n",
      "Generation 1 - Current best internal CV score: -0.0016616163633071171\n",
      "\n",
      "Generation 2 - Current best internal CV score: -0.0016615068549424173\n",
      "\n",
      "Generation 3 - Current best internal CV score: -0.0015920534091922716\n",
      "\n",
      "Generation 4 - Current best internal CV score: -0.0014380093427504962\n",
      "\n",
      "Generation 5 - Current best internal CV score: -0.0014380093427504962\n",
      "\n",
      "Best pipeline: ExtraTreesRegressor(MaxAbsScaler(RidgeCV(input_matrix)), bootstrap=False, max_features=0.2, min_samples_leaf=1, min_samples_split=7, n_estimators=100)\n",
      "fsp3: -0.0014141587660542354\n"
     ]
    },
    {
     "data": {
      "application/vnd.jupyter.widget-view+json": {
       "model_id": "771c6b9f9f73403292b353467f233c27",
       "version_major": 2,
       "version_minor": 0
      },
      "text/plain": [
       "Optimization Progress:   0%|          | 0/300 [00:00<?, ?pipeline/s]"
      ]
     },
     "metadata": {},
     "output_type": "display_data"
    },
    {
     "name": "stdout",
     "output_type": "stream",
     "text": [
      "\n",
      "Generation 1 - Current best internal CV score: -0.24317984797383696\n",
      "\n",
      "Generation 2 - Current best internal CV score: -0.24051533664518154\n",
      "\n",
      "Generation 3 - Current best internal CV score: -0.23043206580820225\n",
      "\n",
      "Generation 4 - Current best internal CV score: -0.21610106682043817\n",
      "\n",
      "Generation 5 - Current best internal CV score: -0.21610106682043817\n",
      "\n",
      "Best pipeline: XGBRegressor(input_matrix, learning_rate=0.1, max_depth=8, min_child_weight=7, n_estimators=100, n_jobs=1, objective=reg:squarederror, subsample=0.5, verbosity=0)\n",
      "n_lipinski_hba: -0.21219733220612935\n"
     ]
    },
    {
     "data": {
      "application/vnd.jupyter.widget-view+json": {
       "model_id": "305bc3fe0e8d49f69a4ca5f37adc8f28",
       "version_major": 2,
       "version_minor": 0
      },
      "text/plain": [
       "Optimization Progress:   0%|          | 0/300 [00:00<?, ?pipeline/s]"
      ]
     },
     "metadata": {},
     "output_type": "display_data"
    },
    {
     "name": "stdout",
     "output_type": "stream",
     "text": [
      "\n",
      "Generation 1 - Current best internal CV score: -0.03844659144511916\n",
      "\n",
      "Generation 2 - Current best internal CV score: -0.03844659144511916\n",
      "\n",
      "Generation 3 - Current best internal CV score: -0.03844659144511916\n",
      "\n",
      "Generation 4 - Current best internal CV score: -0.0379470106235823\n",
      "\n",
      "Generation 5 - Current best internal CV score: -0.0379470106235823\n",
      "\n",
      "Best pipeline: XGBRegressor(input_matrix, learning_rate=0.1, max_depth=8, min_child_weight=4, n_estimators=100, n_jobs=1, objective=reg:squarederror, subsample=0.55, verbosity=0)\n",
      "n_lipinski_hbd: -0.035016128787954307\n"
     ]
    },
    {
     "data": {
      "application/vnd.jupyter.widget-view+json": {
       "model_id": "a22cc9cdb7fb44f187bba98d8547f4b4",
       "version_major": 2,
       "version_minor": 0
      },
      "text/plain": [
       "Optimization Progress:   0%|          | 0/300 [00:00<?, ?pipeline/s]"
      ]
     },
     "metadata": {},
     "output_type": "display_data"
    },
    {
     "name": "stdout",
     "output_type": "stream",
     "text": [
      "\n",
      "Generation 1 - Current best internal CV score: -0.12962915276566742\n",
      "\n",
      "Generation 2 - Current best internal CV score: -0.12962915276566742\n",
      "\n",
      "Generation 3 - Current best internal CV score: -0.12962915276566742\n",
      "\n",
      "Generation 4 - Current best internal CV score: -0.12962915276566742\n",
      "\n",
      "Generation 5 - Current best internal CV score: -0.12786805698724488\n",
      "\n",
      "Best pipeline: XGBRegressor(input_matrix, learning_rate=0.1, max_depth=9, min_child_weight=14, n_estimators=100, n_jobs=1, objective=reg:squarederror, subsample=0.7500000000000001, verbosity=0)\n",
      "n_rings: -0.11471720267683996\n"
     ]
    },
    {
     "data": {
      "application/vnd.jupyter.widget-view+json": {
       "model_id": "f6bb6a14f22849ce9764c84c47ce132d",
       "version_major": 2,
       "version_minor": 0
      },
      "text/plain": [
       "Optimization Progress:   0%|          | 0/300 [00:00<?, ?pipeline/s]"
      ]
     },
     "metadata": {},
     "output_type": "display_data"
    },
    {
     "name": "stdout",
     "output_type": "stream",
     "text": [
      "\n",
      "Generation 1 - Current best internal CV score: -0.31733406901992517\n",
      "\n",
      "Generation 2 - Current best internal CV score: -0.31733406901992517\n",
      "\n",
      "Generation 3 - Current best internal CV score: -0.31733406901992517\n",
      "\n",
      "Generation 4 - Current best internal CV score: -0.31733406901992517\n",
      "\n",
      "Generation 5 - Current best internal CV score: -0.31733406901992517\n",
      "\n",
      "Best pipeline: XGBRegressor(RidgeCV(input_matrix), learning_rate=0.1, max_depth=6, min_child_weight=17, n_estimators=100, n_jobs=1, objective=reg:squarederror, subsample=0.5, verbosity=0)\n",
      "n_hetero_atoms: -0.3543465657012051\n"
     ]
    },
    {
     "data": {
      "application/vnd.jupyter.widget-view+json": {
       "model_id": "2530622f9b8545a7b9d73a7832089fb1",
       "version_major": 2,
       "version_minor": 0
      },
      "text/plain": [
       "Optimization Progress:   0%|          | 0/300 [00:00<?, ?pipeline/s]"
      ]
     },
     "metadata": {},
     "output_type": "display_data"
    },
    {
     "name": "stdout",
     "output_type": "stream",
     "text": [
      "\n",
      "Generation 1 - Current best internal CV score: -4.469884294522766\n",
      "\n",
      "Generation 2 - Current best internal CV score: -4.469884294522766\n",
      "\n",
      "Generation 3 - Current best internal CV score: -4.362934578218584\n",
      "\n",
      "Generation 4 - Current best internal CV score: -4.145842948424441\n",
      "\n",
      "Generation 5 - Current best internal CV score: -4.09801070464854\n",
      "\n",
      "Best pipeline: XGBRegressor(input_matrix, learning_rate=0.1, max_depth=6, min_child_weight=1, n_estimators=100, n_jobs=1, objective=reg:squarederror, subsample=0.5, verbosity=0)\n",
      "n_heavy_atoms: -3.597071225501102\n"
     ]
    },
    {
     "data": {
      "application/vnd.jupyter.widget-view+json": {
       "model_id": "0e111d2495b14bcdbf3167595925f566",
       "version_major": 2,
       "version_minor": 0
      },
      "text/plain": [
       "Optimization Progress:   0%|          | 0/300 [00:00<?, ?pipeline/s]"
      ]
     },
     "metadata": {},
     "output_type": "display_data"
    },
    {
     "name": "stdout",
     "output_type": "stream",
     "text": [
      "\n",
      "Generation 1 - Current best internal CV score: -0.4991000846571242\n",
      "\n",
      "Generation 2 - Current best internal CV score: -0.4991000846571242\n",
      "\n",
      "Generation 3 - Current best internal CV score: -0.47391800530417993\n",
      "\n",
      "Generation 4 - Current best internal CV score: -0.47285701305152916\n",
      "\n",
      "Generation 5 - Current best internal CV score: -0.44336232362145783\n",
      "\n",
      "Best pipeline: ExtraTreesRegressor(RidgeCV(input_matrix), bootstrap=False, max_features=0.2, min_samples_leaf=1, min_samples_split=7, n_estimators=100)\n",
      "n_rotatable_bonds: -0.5167882426279783\n"
     ]
    },
    {
     "data": {
      "application/vnd.jupyter.widget-view+json": {
       "model_id": "16807490470d430384c1dea264edb3a2",
       "version_major": 2,
       "version_minor": 0
      },
      "text/plain": [
       "Optimization Progress:   0%|          | 0/300 [00:00<?, ?pipeline/s]"
      ]
     },
     "metadata": {},
     "output_type": "display_data"
    },
    {
     "name": "stdout",
     "output_type": "stream",
     "text": [
      "\n",
      "Generation 1 - Current best internal CV score: -42.039716460002246\n",
      "\n",
      "Generation 2 - Current best internal CV score: -41.20119383322519\n",
      "\n",
      "Generation 3 - Current best internal CV score: -41.20119383322519\n",
      "\n",
      "Generation 4 - Current best internal CV score: -36.76390825491925\n",
      "\n",
      "Generation 5 - Current best internal CV score: -36.76390825491925\n",
      "\n",
      "Best pipeline: RidgeCV(PolynomialFeatures(input_matrix, degree=2, include_bias=False, interaction_only=False))\n",
      "tpsa: -31.95094347664278\n"
     ]
    },
    {
     "data": {
      "application/vnd.jupyter.widget-view+json": {
       "model_id": "e05de9c53b6e4c54aa0ccac0a1d305d7",
       "version_major": 2,
       "version_minor": 0
      },
      "text/plain": [
       "Optimization Progress:   0%|          | 0/300 [00:00<?, ?pipeline/s]"
      ]
     },
     "metadata": {},
     "output_type": "display_data"
    },
    {
     "name": "stdout",
     "output_type": "stream",
     "text": [
      "\n",
      "Generation 1 - Current best internal CV score: -0.0043260890179774\n",
      "\n",
      "Generation 2 - Current best internal CV score: -0.0043260890179774\n",
      "\n",
      "Generation 3 - Current best internal CV score: -0.0043260890179774\n",
      "\n",
      "Generation 4 - Current best internal CV score: -0.004318745982755819\n",
      "\n",
      "Generation 5 - Current best internal CV score: -0.004085302938945717\n",
      "\n",
      "Best pipeline: XGBRegressor(input_matrix, learning_rate=0.1, max_depth=9, min_child_weight=17, n_estimators=100, n_jobs=1, objective=reg:squarederror, subsample=0.7500000000000001, verbosity=0)\n",
      "qed: -0.004608186484813938\n"
     ]
    },
    {
     "data": {
      "application/vnd.jupyter.widget-view+json": {
       "model_id": "7ba398048d834b3cb8fce2b818a7d4c3",
       "version_major": 2,
       "version_minor": 0
      },
      "text/plain": [
       "Optimization Progress:   0%|          | 0/300 [00:00<?, ?pipeline/s]"
      ]
     },
     "metadata": {},
     "output_type": "display_data"
    },
    {
     "name": "stdout",
     "output_type": "stream",
     "text": [
      "\n",
      "Generation 1 - Current best internal CV score: -0.36459529660328516\n",
      "\n",
      "Generation 2 - Current best internal CV score: -0.36459529660328516\n",
      "\n",
      "Generation 3 - Current best internal CV score: -0.33476440056105206\n",
      "\n",
      "Generation 4 - Current best internal CV score: -0.33476440056105206\n",
      "\n",
      "Generation 5 - Current best internal CV score: -0.33476440056105206\n",
      "\n",
      "Best pipeline: RidgeCV(MinMaxScaler(PolynomialFeatures(input_matrix, degree=2, include_bias=False, interaction_only=False)))\n",
      "clogp: -0.34743136408586756\n"
     ]
    },
    {
     "data": {
      "application/vnd.jupyter.widget-view+json": {
       "model_id": "4bcceffa461e43578b87992391700238",
       "version_major": 2,
       "version_minor": 0
      },
      "text/plain": [
       "Optimization Progress:   0%|          | 0/300 [00:00<?, ?pipeline/s]"
      ]
     },
     "metadata": {},
     "output_type": "display_data"
    },
    {
     "name": "stdout",
     "output_type": "stream",
     "text": [
      "\n",
      "Generation 1 - Current best internal CV score: -0.032970899652236235\n",
      "\n",
      "Generation 2 - Current best internal CV score: -0.032970899652236235\n",
      "\n",
      "Generation 3 - Current best internal CV score: -0.032970899652236235\n",
      "\n",
      "Generation 4 - Current best internal CV score: -0.032970899652236235\n",
      "\n",
      "Generation 5 - Current best internal CV score: -0.032970899652236235\n",
      "\n",
      "Best pipeline: ExtraTreesRegressor(input_matrix, bootstrap=False, max_features=0.2, min_samples_leaf=1, min_samples_split=7, n_estimators=100)\n",
      "sas: -0.029710228696487224\n"
     ]
    },
    {
     "data": {
      "application/vnd.jupyter.widget-view+json": {
       "model_id": "a93eb932baf14c3da6fe456c560b1e9d",
       "version_major": 2,
       "version_minor": 0
      },
      "text/plain": [
       "Optimization Progress:   0%|          | 0/300 [00:00<?, ?pipeline/s]"
      ]
     },
     "metadata": {},
     "output_type": "display_data"
    },
    {
     "name": "stdout",
     "output_type": "stream",
     "text": [
      "\n",
      "Generation 1 - Current best internal CV score: -0.0333717998589869\n",
      "\n",
      "Generation 2 - Current best internal CV score: -0.029266199075968363\n",
      "\n",
      "Generation 3 - Current best internal CV score: -0.0287243229590609\n",
      "\n",
      "Generation 4 - Current best internal CV score: -0.0287243229590609\n",
      "\n",
      "Generation 5 - Current best internal CV score: -0.027722247528280543\n",
      "\n",
      "Best pipeline: XGBRegressor(RobustScaler(input_matrix), learning_rate=0.1, max_depth=6, min_child_weight=2, n_estimators=100, n_jobs=1, objective=reg:squarederror, subsample=0.55, verbosity=0)\n",
      "n_aliphatic_carbocycles: -0.027199914659545535\n"
     ]
    },
    {
     "data": {
      "application/vnd.jupyter.widget-view+json": {
       "model_id": "8b0830d38f4a4e55ac73c023ee4d034e",
       "version_major": 2,
       "version_minor": 0
      },
      "text/plain": [
       "Optimization Progress:   0%|          | 0/300 [00:00<?, ?pipeline/s]"
      ]
     },
     "metadata": {},
     "output_type": "display_data"
    },
    {
     "name": "stdout",
     "output_type": "stream",
     "text": [
      "\n",
      "Generation 1 - Current best internal CV score: -0.027001070918732873\n",
      "\n",
      "Generation 2 - Current best internal CV score: -0.027001070918732873\n",
      "\n",
      "Generation 3 - Current best internal CV score: -0.027001070918732873\n",
      "\n",
      "Generation 4 - Current best internal CV score: -0.027001070918732873\n",
      "\n",
      "Generation 5 - Current best internal CV score: -0.027001070918732873\n",
      "\n",
      "Best pipeline: ExtraTreesRegressor(input_matrix, bootstrap=False, max_features=0.2, min_samples_leaf=1, min_samples_split=7, n_estimators=100)\n",
      "n_aliphatic_heterocyles: -0.04058890894078793\n"
     ]
    },
    {
     "data": {
      "application/vnd.jupyter.widget-view+json": {
       "model_id": "abc93e8d6f8745c486ff206114b546ce",
       "version_major": 2,
       "version_minor": 0
      },
      "text/plain": [
       "Optimization Progress:   0%|          | 0/300 [00:00<?, ?pipeline/s]"
      ]
     },
     "metadata": {},
     "output_type": "display_data"
    },
    {
     "name": "stdout",
     "output_type": "stream",
     "text": [
      "\n",
      "Generation 1 - Current best internal CV score: -0.04715672832278282\n",
      "\n",
      "Generation 2 - Current best internal CV score: -0.04715672832278282\n",
      "\n",
      "Generation 3 - Current best internal CV score: -0.04715672832278282\n",
      "\n",
      "Generation 4 - Current best internal CV score: -0.04715672832278282\n",
      "\n",
      "Generation 5 - Current best internal CV score: -0.044516499353866215\n",
      "\n",
      "Best pipeline: XGBRegressor(input_matrix, learning_rate=0.1, max_depth=6, min_child_weight=2, n_estimators=100, n_jobs=1, objective=reg:squarederror, subsample=0.5, verbosity=0)\n",
      "n_aliphatic_rings: -0.05741169591648112\n"
     ]
    },
    {
     "data": {
      "application/vnd.jupyter.widget-view+json": {
       "model_id": "bbdc69101a654abf9b326f5b0d6ee5f7",
       "version_major": 2,
       "version_minor": 0
      },
      "text/plain": [
       "Optimization Progress:   0%|          | 0/300 [00:00<?, ?pipeline/s]"
      ]
     },
     "metadata": {},
     "output_type": "display_data"
    },
    {
     "name": "stdout",
     "output_type": "stream",
     "text": [
      "\n",
      "Generation 1 - Current best internal CV score: -0.1275496800041622\n",
      "\n",
      "Generation 2 - Current best internal CV score: -0.1275496800041622\n",
      "\n",
      "Generation 3 - Current best internal CV score: -0.12614676514958048\n",
      "\n",
      "Generation 4 - Current best internal CV score: -0.11855348473037416\n",
      "\n",
      "Generation 5 - Current best internal CV score: -0.11855348473037416\n",
      "\n",
      "Best pipeline: ExtraTreesRegressor(RidgeCV(input_matrix), bootstrap=False, max_features=0.2, min_samples_leaf=1, min_samples_split=7, n_estimators=100)\n",
      "n_aromatic_carbocycles: -0.10434745340882283\n"
     ]
    },
    {
     "data": {
      "application/vnd.jupyter.widget-view+json": {
       "model_id": "4027cd7c1fcb456b900936e18c870bd8",
       "version_major": 2,
       "version_minor": 0
      },
      "text/plain": [
       "Optimization Progress:   0%|          | 0/300 [00:00<?, ?pipeline/s]"
      ]
     },
     "metadata": {},
     "output_type": "display_data"
    },
    {
     "name": "stdout",
     "output_type": "stream",
     "text": [
      "\n",
      "Generation 1 - Current best internal CV score: -0.09801986954250304\n",
      "\n",
      "Generation 2 - Current best internal CV score: -0.09801986954250304\n",
      "\n",
      "Generation 3 - Current best internal CV score: -0.09801986954250304\n",
      "\n",
      "Generation 4 - Current best internal CV score: -0.09801986954250304\n",
      "\n",
      "Generation 5 - Current best internal CV score: -0.09801986954250304\n",
      "\n",
      "Best pipeline: ExtraTreesRegressor(input_matrix, bootstrap=False, max_features=0.2, min_samples_leaf=1, min_samples_split=7, n_estimators=100)\n",
      "n_aromatic_heterocyles: -0.11120235037744752\n"
     ]
    },
    {
     "data": {
      "application/vnd.jupyter.widget-view+json": {
       "model_id": "26064eeb1134442ba2407022fdb79952",
       "version_major": 2,
       "version_minor": 0
      },
      "text/plain": [
       "Optimization Progress:   0%|          | 0/300 [00:00<?, ?pipeline/s]"
      ]
     },
     "metadata": {},
     "output_type": "display_data"
    },
    {
     "name": "stdout",
     "output_type": "stream",
     "text": [
      "\n",
      "Generation 1 - Current best internal CV score: -0.12761373718732558\n",
      "\n",
      "Generation 2 - Current best internal CV score: -0.12761373718732558\n",
      "\n",
      "Generation 3 - Current best internal CV score: -0.12761373718732558\n",
      "\n",
      "Generation 4 - Current best internal CV score: -0.12761373718732558\n",
      "\n",
      "Generation 5 - Current best internal CV score: -0.12148178754131952\n",
      "\n",
      "Best pipeline: ExtraTreesRegressor(GradientBoostingRegressor(RidgeCV(input_matrix), alpha=0.95, learning_rate=0.001, loss=quantile, max_depth=10, max_features=0.45, min_samples_leaf=12, min_samples_split=6, n_estimators=100, subsample=0.7000000000000001), bootstrap=False, max_features=0.4, min_samples_leaf=1, min_samples_split=10, n_estimators=100)\n",
      "n_aromatic_rings: -0.1155443828957194\n"
     ]
    },
    {
     "data": {
      "application/vnd.jupyter.widget-view+json": {
       "model_id": "11c5d121d8cc453c8193595b9ac41c8a",
       "version_major": 2,
       "version_minor": 0
      },
      "text/plain": [
       "Optimization Progress:   0%|          | 0/300 [00:00<?, ?pipeline/s]"
      ]
     },
     "metadata": {},
     "output_type": "display_data"
    },
    {
     "name": "stdout",
     "output_type": "stream",
     "text": [
      "\n",
      "Generation 1 - Current best internal CV score: -0.025250866394192578\n",
      "\n",
      "Generation 2 - Current best internal CV score: -0.022064948578133542\n",
      "\n",
      "Generation 3 - Current best internal CV score: -0.022064948578133542\n",
      "\n",
      "Generation 4 - Current best internal CV score: -0.019346262779170044\n",
      "\n",
      "Generation 5 - Current best internal CV score: -0.019346262779170044\n",
      "\n",
      "Best pipeline: ExtraTreesRegressor(RidgeCV(input_matrix), bootstrap=False, max_features=0.6000000000000001, min_samples_leaf=3, min_samples_split=7, n_estimators=100)\n",
      "n_saturated_carbocycles: -0.030956705151328055\n"
     ]
    },
    {
     "data": {
      "application/vnd.jupyter.widget-view+json": {
       "model_id": "f36eeb76904c4780b5b0dac5e6289cf9",
       "version_major": 2,
       "version_minor": 0
      },
      "text/plain": [
       "Optimization Progress:   0%|          | 0/300 [00:00<?, ?pipeline/s]"
      ]
     },
     "metadata": {},
     "output_type": "display_data"
    },
    {
     "name": "stdout",
     "output_type": "stream",
     "text": [
      "\n",
      "Generation 1 - Current best internal CV score: -0.016936590844220892\n",
      "\n",
      "Generation 2 - Current best internal CV score: -0.016936590844220892\n",
      "\n",
      "Generation 3 - Current best internal CV score: -0.016936590844220892\n",
      "\n",
      "Generation 4 - Current best internal CV score: -0.016936590844220892\n",
      "\n",
      "Generation 5 - Current best internal CV score: -0.01672431253354842\n",
      "\n",
      "Best pipeline: ExtraTreesRegressor(input_matrix, bootstrap=False, max_features=0.4, min_samples_leaf=1, min_samples_split=7, n_estimators=100)\n",
      "n_saturated_heterocyles: -0.016843350908233072\n"
     ]
    },
    {
     "data": {
      "application/vnd.jupyter.widget-view+json": {
       "model_id": "70c23474723942a38100952c1e57833b",
       "version_major": 2,
       "version_minor": 0
      },
      "text/plain": [
       "Optimization Progress:   0%|          | 0/300 [00:00<?, ?pipeline/s]"
      ]
     },
     "metadata": {},
     "output_type": "display_data"
    },
    {
     "name": "stdout",
     "output_type": "stream",
     "text": [
      "\n",
      "Generation 1 - Current best internal CV score: -0.031844067936803555\n",
      "\n",
      "Generation 2 - Current best internal CV score: -0.031844067936803555\n",
      "\n",
      "Generation 3 - Current best internal CV score: -0.031844067936803555\n",
      "\n",
      "Generation 4 - Current best internal CV score: -0.031844067936803555\n",
      "\n",
      "Generation 5 - Current best internal CV score: -0.031844067936803555\n",
      "\n",
      "Best pipeline: ExtraTreesRegressor(input_matrix, bootstrap=False, max_features=0.2, min_samples_leaf=1, min_samples_split=7, n_estimators=100)\n",
      "n_saturated_rings: -0.028668958008964386\n"
     ]
    }
   ],
   "source": [
    "for i in range(y_train.shape[1]):\n",
    "    name = y_train.iloc[:, i].name\n",
    "    tpot = TPOTRegressor(generations=5, population_size=50, verbosity=2, random_state=42, n_jobs=-1)\n",
    "    tpot.fit(X_train, y_train.iloc[:, i])\n",
    "    print(f'{name}: {tpot.score(X_val, y_val.iloc[:, i])}')\n",
    "    regressors_pieplines[name] = tpot\n",
    "    filename = work_dir / f'{name}_regressor.py'\n",
    "    tpot.export(filename)\n",
    "    "
   ]
  },
  {
   "cell_type": "code",
   "execution_count": 42,
   "metadata": {},
   "outputs": [
    {
     "data": {
      "text/plain": [
       "{'memory': None,\n",
       " 'steps': [('extratreesregressor',\n",
       "   ExtraTreesRegressor(max_features=0.2, min_samples_split=7, random_state=42))],\n",
       " 'verbose': False,\n",
       " 'extratreesregressor': ExtraTreesRegressor(max_features=0.2, min_samples_split=7, random_state=42),\n",
       " 'extratreesregressor__bootstrap': False,\n",
       " 'extratreesregressor__ccp_alpha': 0.0,\n",
       " 'extratreesregressor__criterion': 'squared_error',\n",
       " 'extratreesregressor__max_depth': None,\n",
       " 'extratreesregressor__max_features': 0.2,\n",
       " 'extratreesregressor__max_leaf_nodes': None,\n",
       " 'extratreesregressor__max_samples': None,\n",
       " 'extratreesregressor__min_impurity_decrease': 0.0,\n",
       " 'extratreesregressor__min_samples_leaf': 1,\n",
       " 'extratreesregressor__min_samples_split': 7,\n",
       " 'extratreesregressor__min_weight_fraction_leaf': 0.0,\n",
       " 'extratreesregressor__monotonic_cst': None,\n",
       " 'extratreesregressor__n_estimators': 100,\n",
       " 'extratreesregressor__n_jobs': None,\n",
       " 'extratreesregressor__oob_score': False,\n",
       " 'extratreesregressor__random_state': 42,\n",
       " 'extratreesregressor__verbose': 0,\n",
       " 'extratreesregressor__warm_start': False}"
      ]
     },
     "execution_count": 42,
     "metadata": {},
     "output_type": "execute_result"
    }
   ],
   "source": [
    "regressors_pieplines['n_saturated_rings'].fitted_pipeline_.get_params()"
   ]
  },
  {
   "cell_type": "code",
   "execution_count": 43,
   "metadata": {},
   "outputs": [],
   "source": [
    "pipelines = dict()\n",
    "for key, value in regressors_pieplines.items():\n",
    "    pipelines[key] = value.fitted_pipeline_"
   ]
  },
  {
   "cell_type": "code",
   "execution_count": 44,
   "metadata": {},
   "outputs": [
    {
     "data": {
      "text/plain": [
       "{'pKi': Pipeline(steps=[('extratreesregressor',\n",
       "                  ExtraTreesRegressor(max_features=0.2, min_samples_split=7,\n",
       "                                      random_state=42))]),\n",
       " 'fsp3': Pipeline(steps=[('stackingestimator', StackingEstimator(estimator=RidgeCV())),\n",
       "                 ('maxabsscaler', MaxAbsScaler()),\n",
       "                 ('extratreesregressor',\n",
       "                  ExtraTreesRegressor(max_features=0.2, min_samples_split=7,\n",
       "                                      random_state=42))]),\n",
       " 'n_lipinski_hba': Pipeline(steps=[('xgbregressor',\n",
       "                  XGBRegressor(base_score=None, booster=None, callbacks=None,\n",
       "                               colsample_bylevel=None, colsample_bynode=None,\n",
       "                               colsample_bytree=None, device=None,\n",
       "                               early_stopping_rounds=None,\n",
       "                               enable_categorical=False, eval_metric=None,\n",
       "                               feature_types=None, gamma=None, grow_policy=None,\n",
       "                               importance_type=None,\n",
       "                               interaction_constraints=None, learning_rate=0.1,\n",
       "                               max_bin=None, max_cat_threshold=None,\n",
       "                               max_cat_to_onehot=None, max_delta_step=None,\n",
       "                               max_depth=8, max_leaves=None, min_child_weight=7,\n",
       "                               missing=nan, monotone_constraints=None,\n",
       "                               multi_strategy=None, n_estimators=100, n_jobs=1,\n",
       "                               num_parallel_tree=None, random_state=42, ...))]),\n",
       " 'n_lipinski_hbd': Pipeline(steps=[('xgbregressor',\n",
       "                  XGBRegressor(base_score=None, booster=None, callbacks=None,\n",
       "                               colsample_bylevel=None, colsample_bynode=None,\n",
       "                               colsample_bytree=None, device=None,\n",
       "                               early_stopping_rounds=None,\n",
       "                               enable_categorical=False, eval_metric=None,\n",
       "                               feature_types=None, gamma=None, grow_policy=None,\n",
       "                               importance_type=None,\n",
       "                               interaction_constraints=None, learning_rate=0.1,\n",
       "                               max_bin=None, max_cat_threshold=None,\n",
       "                               max_cat_to_onehot=None, max_delta_step=None,\n",
       "                               max_depth=8, max_leaves=None, min_child_weight=4,\n",
       "                               missing=nan, monotone_constraints=None,\n",
       "                               multi_strategy=None, n_estimators=100, n_jobs=1,\n",
       "                               num_parallel_tree=None, random_state=42, ...))]),\n",
       " 'n_rings': Pipeline(steps=[('xgbregressor',\n",
       "                  XGBRegressor(base_score=None, booster=None, callbacks=None,\n",
       "                               colsample_bylevel=None, colsample_bynode=None,\n",
       "                               colsample_bytree=None, device=None,\n",
       "                               early_stopping_rounds=None,\n",
       "                               enable_categorical=False, eval_metric=None,\n",
       "                               feature_types=None, gamma=None, grow_policy=None,\n",
       "                               importance_type=None,\n",
       "                               interaction_constraints=None, learning_rate=0.1,\n",
       "                               max_bin=None, max_cat_threshold=None,\n",
       "                               max_cat_to_onehot=None, max_delta_step=None,\n",
       "                               max_depth=9, max_leaves=None, min_child_weight=14,\n",
       "                               missing=nan, monotone_constraints=None,\n",
       "                               multi_strategy=None, n_estimators=100, n_jobs=1,\n",
       "                               num_parallel_tree=None, random_state=42, ...))]),\n",
       " 'n_hetero_atoms': Pipeline(steps=[('stackingestimator', StackingEstimator(estimator=RidgeCV())),\n",
       "                 ('xgbregressor',\n",
       "                  XGBRegressor(base_score=None, booster=None, callbacks=None,\n",
       "                               colsample_bylevel=None, colsample_bynode=None,\n",
       "                               colsample_bytree=None, device=None,\n",
       "                               early_stopping_rounds=None,\n",
       "                               enable_categorical=False, eval_metric=None,\n",
       "                               feature_types=None, gamma=None, grow_policy=None,\n",
       "                               importance_type=None,\n",
       "                               interaction_constraints=None, learning_rate=0.1,\n",
       "                               max_bin=None, max_cat_threshold=None,\n",
       "                               max_cat_to_onehot=None, max_delta_step=None,\n",
       "                               max_depth=6, max_leaves=None, min_child_weight=17,\n",
       "                               missing=nan, monotone_constraints=None,\n",
       "                               multi_strategy=None, n_estimators=100, n_jobs=1,\n",
       "                               num_parallel_tree=None, random_state=42, ...))]),\n",
       " 'n_heavy_atoms': Pipeline(steps=[('xgbregressor',\n",
       "                  XGBRegressor(base_score=None, booster=None, callbacks=None,\n",
       "                               colsample_bylevel=None, colsample_bynode=None,\n",
       "                               colsample_bytree=None, device=None,\n",
       "                               early_stopping_rounds=None,\n",
       "                               enable_categorical=False, eval_metric=None,\n",
       "                               feature_types=None, gamma=None, grow_policy=None,\n",
       "                               importance_type=None,\n",
       "                               interaction_constraints=None, learning_rate=0.1,\n",
       "                               max_bin=None, max_cat_threshold=None,\n",
       "                               max_cat_to_onehot=None, max_delta_step=None,\n",
       "                               max_depth=6, max_leaves=None, min_child_weight=1,\n",
       "                               missing=nan, monotone_constraints=None,\n",
       "                               multi_strategy=None, n_estimators=100, n_jobs=1,\n",
       "                               num_parallel_tree=None, random_state=42, ...))]),\n",
       " 'n_rotatable_bonds': Pipeline(steps=[('stackingestimator', StackingEstimator(estimator=RidgeCV())),\n",
       "                 ('extratreesregressor',\n",
       "                  ExtraTreesRegressor(max_features=0.2, min_samples_split=7,\n",
       "                                      random_state=42))]),\n",
       " 'tpsa': Pipeline(steps=[('polynomialfeatures', PolynomialFeatures(include_bias=False)),\n",
       "                 ('ridgecv', RidgeCV())]),\n",
       " 'qed': Pipeline(steps=[('xgbregressor',\n",
       "                  XGBRegressor(base_score=None, booster=None, callbacks=None,\n",
       "                               colsample_bylevel=None, colsample_bynode=None,\n",
       "                               colsample_bytree=None, device=None,\n",
       "                               early_stopping_rounds=None,\n",
       "                               enable_categorical=False, eval_metric=None,\n",
       "                               feature_types=None, gamma=None, grow_policy=None,\n",
       "                               importance_type=None,\n",
       "                               interaction_constraints=None, learning_rate=0.1,\n",
       "                               max_bin=None, max_cat_threshold=None,\n",
       "                               max_cat_to_onehot=None, max_delta_step=None,\n",
       "                               max_depth=9, max_leaves=None, min_child_weight=17,\n",
       "                               missing=nan, monotone_constraints=None,\n",
       "                               multi_strategy=None, n_estimators=100, n_jobs=1,\n",
       "                               num_parallel_tree=None, random_state=42, ...))]),\n",
       " 'clogp': Pipeline(steps=[('polynomialfeatures', PolynomialFeatures(include_bias=False)),\n",
       "                 ('minmaxscaler', MinMaxScaler()), ('ridgecv', RidgeCV())]),\n",
       " 'sas': Pipeline(steps=[('extratreesregressor',\n",
       "                  ExtraTreesRegressor(max_features=0.2, min_samples_split=7,\n",
       "                                      random_state=42))]),\n",
       " 'n_aliphatic_carbocycles': Pipeline(steps=[('robustscaler', RobustScaler()),\n",
       "                 ('xgbregressor',\n",
       "                  XGBRegressor(base_score=None, booster=None, callbacks=None,\n",
       "                               colsample_bylevel=None, colsample_bynode=None,\n",
       "                               colsample_bytree=None, device=None,\n",
       "                               early_stopping_rounds=None,\n",
       "                               enable_categorical=False, eval_metric=None,\n",
       "                               feature_types=None, gamma=None, grow_policy=None,\n",
       "                               importance_type=None,\n",
       "                               interaction_constraints=None, learning_rate=0.1,\n",
       "                               max_bin=None, max_cat_threshold=None,\n",
       "                               max_cat_to_onehot=None, max_delta_step=None,\n",
       "                               max_depth=6, max_leaves=None, min_child_weight=2,\n",
       "                               missing=nan, monotone_constraints=None,\n",
       "                               multi_strategy=None, n_estimators=100, n_jobs=1,\n",
       "                               num_parallel_tree=None, random_state=42, ...))]),\n",
       " 'n_aliphatic_heterocyles': Pipeline(steps=[('extratreesregressor',\n",
       "                  ExtraTreesRegressor(max_features=0.2, min_samples_split=7,\n",
       "                                      random_state=42))]),\n",
       " 'n_aliphatic_rings': Pipeline(steps=[('xgbregressor',\n",
       "                  XGBRegressor(base_score=None, booster=None, callbacks=None,\n",
       "                               colsample_bylevel=None, colsample_bynode=None,\n",
       "                               colsample_bytree=None, device=None,\n",
       "                               early_stopping_rounds=None,\n",
       "                               enable_categorical=False, eval_metric=None,\n",
       "                               feature_types=None, gamma=None, grow_policy=None,\n",
       "                               importance_type=None,\n",
       "                               interaction_constraints=None, learning_rate=0.1,\n",
       "                               max_bin=None, max_cat_threshold=None,\n",
       "                               max_cat_to_onehot=None, max_delta_step=None,\n",
       "                               max_depth=6, max_leaves=None, min_child_weight=2,\n",
       "                               missing=nan, monotone_constraints=None,\n",
       "                               multi_strategy=None, n_estimators=100, n_jobs=1,\n",
       "                               num_parallel_tree=None, random_state=42, ...))]),\n",
       " 'n_aromatic_carbocycles': Pipeline(steps=[('stackingestimator', StackingEstimator(estimator=RidgeCV())),\n",
       "                 ('extratreesregressor',\n",
       "                  ExtraTreesRegressor(max_features=0.2, min_samples_split=7,\n",
       "                                      random_state=42))]),\n",
       " 'n_aromatic_heterocyles': Pipeline(steps=[('extratreesregressor',\n",
       "                  ExtraTreesRegressor(max_features=0.2, min_samples_split=7,\n",
       "                                      random_state=42))]),\n",
       " 'n_aromatic_rings': Pipeline(steps=[('stackingestimator-1', StackingEstimator(estimator=RidgeCV())),\n",
       "                 ('stackingestimator-2',\n",
       "                  StackingEstimator(estimator=GradientBoostingRegressor(alpha=0.95,\n",
       "                                                                        learning_rate=0.001,\n",
       "                                                                        loss='quantile',\n",
       "                                                                        max_depth=10,\n",
       "                                                                        max_features=0.45,\n",
       "                                                                        min_samples_leaf=12,\n",
       "                                                                        min_samples_split=6,\n",
       "                                                                        random_state=42,\n",
       "                                                                        subsample=0.7000000000000001))),\n",
       "                 ('extratreesregressor',\n",
       "                  ExtraTreesRegressor(max_features=0.4, min_samples_split=10,\n",
       "                                      random_state=42))]),\n",
       " 'n_saturated_carbocycles': Pipeline(steps=[('stackingestimator', StackingEstimator(estimator=RidgeCV())),\n",
       "                 ('extratreesregressor',\n",
       "                  ExtraTreesRegressor(max_features=0.6000000000000001,\n",
       "                                      min_samples_leaf=3, min_samples_split=7,\n",
       "                                      random_state=42))]),\n",
       " 'n_saturated_heterocyles': Pipeline(steps=[('extratreesregressor',\n",
       "                  ExtraTreesRegressor(max_features=0.4, min_samples_split=7,\n",
       "                                      random_state=42))]),\n",
       " 'n_saturated_rings': Pipeline(steps=[('extratreesregressor',\n",
       "                  ExtraTreesRegressor(max_features=0.2, min_samples_split=7,\n",
       "                                      random_state=42))])}"
      ]
     },
     "execution_count": 44,
     "metadata": {},
     "output_type": "execute_result"
    }
   ],
   "source": [
    "pipelines"
   ]
  },
  {
   "cell_type": "code",
   "execution_count": 45,
   "metadata": {},
   "outputs": [
    {
     "data": {
      "text/plain": [
       "{'memory': None,\n",
       " 'steps': [('polynomialfeatures', PolynomialFeatures(include_bias=False)),\n",
       "  ('ridgecv', RidgeCV())],\n",
       " 'verbose': False,\n",
       " 'polynomialfeatures': PolynomialFeatures(include_bias=False),\n",
       " 'ridgecv': RidgeCV(),\n",
       " 'polynomialfeatures__degree': 2,\n",
       " 'polynomialfeatures__include_bias': False,\n",
       " 'polynomialfeatures__interaction_only': False,\n",
       " 'polynomialfeatures__order': 'C',\n",
       " 'ridgecv__alpha_per_target': False,\n",
       " 'ridgecv__alphas': (0.1, 1.0, 10.0),\n",
       " 'ridgecv__cv': None,\n",
       " 'ridgecv__fit_intercept': True,\n",
       " 'ridgecv__gcv_mode': None,\n",
       " 'ridgecv__scoring': None,\n",
       " 'ridgecv__store_cv_results': None,\n",
       " 'ridgecv__store_cv_values': 'deprecated'}"
      ]
     },
     "execution_count": 45,
     "metadata": {},
     "output_type": "execute_result"
    }
   ],
   "source": [
    "pipelines['tpsa'].get_params()"
   ]
  },
  {
   "cell_type": "code",
   "execution_count": 46,
   "metadata": {},
   "outputs": [],
   "source": [
    "pickle_dir = cwd / 'pickles'\n",
    "pickle_dir.mkdir(exist_ok=True)"
   ]
  },
  {
   "cell_type": "code",
   "execution_count": 47,
   "metadata": {},
   "outputs": [],
   "source": [
    "for name, regressor in pipelines.items():\n",
    "    filename = pickle_dir / f'{name}.pickle'\n",
    "    with open(filename, 'wb') as file:\n",
    "        pickle.dump(regressor, file, pickle.HIGHEST_PROTOCOL)"
   ]
  },
  {
   "cell_type": "code",
   "execution_count": 48,
   "metadata": {},
   "outputs": [],
   "source": [
    "data.to_csv('data_descriptors.csv')"
   ]
  },
  {
   "cell_type": "code",
   "execution_count": 49,
   "metadata": {},
   "outputs": [],
   "source": [
    "res_df.to_csv('regressors_comparision.csv')"
   ]
  },
  {
   "cell_type": "code",
   "execution_count": null,
   "metadata": {},
   "outputs": [],
   "source": []
  }
 ],
 "metadata": {
  "kernelspec": {
   "display_name": ".rdkit",
   "language": "python",
   "name": "python3"
  },
  "language_info": {
   "codemirror_mode": {
    "name": "ipython",
    "version": 3
   },
   "file_extension": ".py",
   "mimetype": "text/x-python",
   "name": "python",
   "nbconvert_exporter": "python",
   "pygments_lexer": "ipython3",
   "version": "3.11.9"
  }
 },
 "nbformat": 4,
 "nbformat_minor": 2
}
